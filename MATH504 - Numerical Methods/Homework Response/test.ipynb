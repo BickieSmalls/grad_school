{
 "cells": [
  {
   "cell_type": "markdown",
   "metadata": {},
   "source": [
    "# Problem 1 \n",
    "Consider the sets\n",
    "\n",
    "$C = \\{(x,y)\\ |\\ ||x||_2 \\leq y \\}$ and $\\hat{C} = \\{(x,y)\\ |\\ ||x||^2_2 \\leq y \\}$ \n",
    "\n",
    "Determine whether the sets $C$ and $\\hat{C}$ are convex or not?"
   ]
  },
  {
   "cell_type": "markdown",
   "metadata": {},
   "source": [
    "We recall that a set S is convex if, for two elements in S, then the linear combination of these elements is also in S. That is, if $x,y \\in S$, then $\\lambda x + (1-\\lambda)y \\in S$.\n",
    "\n",
    "Let $(x_1,y_1),(x_2,y_2) \\in C$, then $||x_1||_2 \\leq y_1$ and $||x_2||_2 \\leq y_2$. \n"
   ]
  },
  {
   "cell_type": "markdown",
   "metadata": {},
   "source": [
    "We see $\\lambda ||x_1||_2 \\leq \\lambda y_1$\n",
    "\n",
    "and $(1-\\lambda)||x_2||_2 \\leq  (1-\\lambda)y_2$. \n",
    "  \n",
    "Then $||\\lambda x_1 + (1-\\lambda)x_2||_2$\n",
    "\n",
    "$= ||\\lambda x_1 ||_2 + ||(1-\\lambda)x_2||_2$\n",
    "\n",
    "$= \\lambda ||x_1||_2 + (1-\\lambda)||x_2||_2$ \n",
    "\n",
    "We then can use the set definition to get the following\n",
    "\n",
    "$\\lambda ||x_1||_2 + (1-\\lambda)||x_2||_2 \\leq \\lambda y_1+ (1-\\lambda)y_2$\n",
    "\n",
    "Therefore, $\\lambda x + (1-\\lambda)y \\in C$. This shows that C is convex."
   ]
  }
 ],
 "metadata": {
  "kernelspec": {
   "display_name": "Python 3.10.4 ('math504')",
   "language": "python",
   "name": "python3"
  },
  "language_info": {
   "name": "python",
   "version": "3.10.4"
  },
  "orig_nbformat": 4,
  "vscode": {
   "interpreter": {
    "hash": "42d3138c653de2e945ccf9a541ade644ddf758aeb4c17ba7a5aef518ded5052f"
   }
  }
 },
 "nbformat": 4,
 "nbformat_minor": 2
}
