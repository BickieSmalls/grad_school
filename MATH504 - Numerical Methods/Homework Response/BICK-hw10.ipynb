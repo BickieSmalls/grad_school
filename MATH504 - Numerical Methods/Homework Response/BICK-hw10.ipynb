{
 "cells": [
  {
   "cell_type": "code",
   "execution_count": 22,
   "metadata": {},
   "outputs": [],
   "source": [
    "import numpy as np\n",
    "import matplotlib.pyplot as plt"
   ]
  },
  {
   "cell_type": "markdown",
   "metadata": {},
   "source": [
    "# Problem 1\n",
    "\n",
    "Consider \"Rosenbrock\" function:\n",
    "\n",
    "$f(x,y) = (1-x_1)^2 + 100(x_2-x_1^2)^2$\n",
    "\n",
    "With a starting point [0,0]^T, apply two iterations of Newton's meethod to minimize Rosenbrock function. Hint:\n",
    "\n",
    "$\\begin{pmatrix}\n",
    "a & b \\\\\n",
    "c & d\n",
    "\\end{pmatrix}^{-1} = \\frac{1}{ad-bc}\n",
    "\\begin{pmatrix}\n",
    "d & -b \\\\\n",
    "-c & a\n",
    "\\end{pmatrix}$"
   ]
  },
  {
   "cell_type": "markdown",
   "metadata": {},
   "source": [
    "First we recall the Newton's method:\n",
    "\n",
    "$x_{n+1} = x_n - F(x_n)^{-1}g_n$, where $F(x_n)$ is the Hessian matrix of $f(x,y)$, and $g_n$ is the gradient vector of $f(x,y)$.\n",
    "\n",
    "To do each iteration, we need to compute the Hessian matrix and the gradient vector. Then we use these two to compute the next point in each iteration using the formula:\n",
    "\n",
    "$x_{n+1} = x_n - \\begin{pmatrix}\n",
    "2(1-x_1) & -400x_1 \\\\\n",
    "-400x_1 & 200\n",
    "\\end{pmatrix}^{-1}\n",
    "\\begin{pmatrix}\n",
    "-2(1-x_1) \\\\\n",
    "-200(x_2-x_1^2)\n",
    "\\end{pmatrix}$ evaluated at the point $x_n$.\n",
    "\n",
    "\n"
   ]
  },
  {
   "cell_type": "markdown",
   "metadata": {},
   "source": [
    "The first iteration is:\n",
    "\n",
    "$x_1 = \\begin{pmatrix}\n",
    "0 \\\\\n",
    "0\n",
    "\\end{pmatrix} - \\begin{pmatrix}\n",
    "2 & 0 \\\\\n",
    "0 & 200\n",
    "\\end{pmatrix}^{-1}\n",
    "\\begin{pmatrix}\n",
    "-2 \\\\\n",
    "-0\n",
    "\\end{pmatrix} = \\begin{pmatrix}\n",
    "1 \\\\\n",
    "0\n",
    "\\end{pmatrix}$"
   ]
  },
  {
   "cell_type": "markdown",
   "metadata": {},
   "source": [
    "The second iteration is:\n",
    "\n",
    "$x_2 = \\begin{pmatrix}\n",
    "1 \\\\\n",
    "0\n",
    "\\end{pmatrix} - \\begin{pmatrix}\n",
    "0 & -400 \\\\\n",
    "-400 & 200\n",
    "\\end{pmatrix}^{-1}\n",
    "\\begin{pmatrix}\n",
    "0 \\\\\n",
    "200\n",
    "\\end{pmatrix} = \\begin{pmatrix}\n",
    "3/2 \\\\\n",
    "0\n",
    "\\end{pmatrix}$"
   ]
  },
  {
   "cell_type": "markdown",
   "metadata": {},
   "source": [
    "# Problem 2\n",
    "\n",
    "Let $S=$ span ${x_1, x_2, x_3}$, where\n",
    "\n",
    "$x_1 = \\begin{pmatrix}1\\\\1\\\\0\\\\0\\end{pmatrix}$,\n",
    "$x_2 = \\begin{pmatrix}2\\\\2\\\\0\\\\-3\\end{pmatrix}$,\n",
    "$x_3 = \\begin{pmatrix}0\\\\-1\\\\1\\\\0\\end{pmatrix}$\n",
    "\n",
    "Find an orthonomal basis for $S$, using Gram-Schmidt process."
   ]
  },
  {
   "cell_type": "markdown",
   "metadata": {},
   "source": [
    "The Gram Schmidt process is a method for finding an orthonormal basis for a subspace of a vector space. The process is as follows:\n",
    "\n",
    "1. Start with a set of vectors $\\{v_1, v_2, \\dots, v_n\\}$ in a vector space $V$.\n",
    "\n",
    "2. Let $u_1 = v_1$.\n",
    "\n",
    "3. For $i = 2, 3, \\dots, n$:\n",
    "\n",
    "    a. Let $u_i = v_i - \\sum_{j=1}^{i-1} \\frac{u_j \\cdot v_i}{u_j \\cdot u_j} u_j$.\n",
    "\n",
    "    b. Normalize $u_i$ by dividing by its length.\n",
    "\n",
    "4. The vectors $\\{u_1, u_2, \\dots, u_n\\}$ are an orthonormal basis for the subspace spanned by $\\{v_1, v_2, \\dots, v_n\\}$."
   ]
  },
  {
   "cell_type": "markdown",
   "metadata": {},
   "source": [
    "We start with the vector $x_1$.\n",
    "\n",
    "$u_1 = x_1 = \\begin{pmatrix}1\\\\1\\\\0\\\\0\\end{pmatrix}$\n",
    "\n",
    "Next, we subtract the projection of $x_2$ onto $u_1$ from $x_2$.\n",
    "\n",
    "$u_2 = x_2 - \\frac{u_1 \\cdot x_2}{u_1 \\cdot u_1} u_1 = \\begin{pmatrix}2\\\\2\\\\0\\\\-3\\end{pmatrix} - \\frac{1}{2} \\begin{pmatrix}1\\\\1\\\\0\\\\0\\end{pmatrix} = \\begin{pmatrix}1\\\\1\\\\0\\\\-3\\end{pmatrix}$\n",
    "\n",
    "Next, we subtract the projection of $x_3$ onto $u_1$ and $u_2$ from $x_3$.\n",
    "\n",
    "$u_3 = x_3 - \\frac{u_1 \\cdot x_3}{u_1 \\cdot u_1} u_1 - \\frac{u_2 \\cdot x_3}{u_2 \\cdot u_2} u_2 = \\begin{pmatrix}0\\\\-1\\\\1\\\\0\\end{pmatrix} - \\frac{1}{2} \\begin{pmatrix}1\\\\1\\\\0\\\\0\\end{pmatrix} - \\frac{1}{2} \\begin{pmatrix}1\\\\1\\\\0\\\\-3\\end{pmatrix} = \\begin{pmatrix}0\\\\-1\\\\1\\\\3\\end{pmatrix}$\n",
    "\n",
    "Finally, we normalize each vector.\n",
    "\n",
    "$u_1 = \\frac{1}{\\sqrt{2}} \\begin{pmatrix}1\\\\1\\\\0\\\\0\\end{pmatrix}$\n",
    "$u_2 = \\frac{1}{\\sqrt{6}} \\begin{pmatrix}1\\\\1\\\\0\\\\-3\\end{pmatrix}$\n",
    "$u_3 = \\frac{1}{\\sqrt{10}} \\begin{pmatrix}0\\\\-1\\\\1\\\\3\\end{pmatrix}$\n",
    "\n",
    "The vectors $\\{u_1, u_2, u_3\\}$ are an orthonormal basis for the subspace spanned by $\\{x_1, x_2, x_3\\}$."
   ]
  },
  {
   "cell_type": "markdown",
   "metadata": {},
   "source": [
    "# Problem 3\n",
    "\n",
    "Write a code and implement the Gauss-Newton Method on the last example given in the lecture, to find $A$, $\\omega$, and $\\phi$ such that the resulting sinusoid $y=A\\sin(\\omega t+\\phi)$ best $(t, y_i), i=1,2,\\cdots, 21$, with $t_1 = 0$ and $t_21 = 10$ and $y_i$ given roughly below."
   ]
  },
  {
   "cell_type": "markdown",
   "metadata": {},
   "source": [
    "We recall from the lectures that the Gauss-Newton method is given by:\n",
    "\n",
    "$x_{n+1} = x_n - (J^TJ)^{-1}J^Tr(x_n)$\n",
    "\n",
    "where $J$ is the Jacobian matrix of $f(x)$, and $f(x)$ is the vector of residuals.\n",
    "\n",
    "We note that $J^Tr(x_n)$ is the gradient of $f(x)$, and $J^TJ$ is the Hessian of $f(x)$."
   ]
  },
  {
   "cell_type": "markdown",
   "metadata": {},
   "source": [
    "As mentioned in the lecture, the problem is described as \n",
    "\n",
    "minimize $\\sum_{i=1}^{21} (y_i - A\\sin(\\omega t_i + \\phi))^2$."
   ]
  },
  {
   "cell_type": "markdown",
   "metadata": {},
   "source": [
    "The first step is to transcribe the approximate data from the plot. We will use this data to calculate the residuals in each iteration of the Gauss-newton method. "
   ]
  },
  {
   "cell_type": "code",
   "execution_count": 54,
   "metadata": {},
   "outputs": [],
   "source": [
    "t = np.linspace(0, 10, 21)\n",
    "y = np.array([1.2,1.9, 2, 1.3, 0.1, -0.5, -1.5, -2.0, -2.2, -1.5, -0.4, 0.3, 0.9, 1.4, 1.8, 2.1, 1.6, 0.8, -0.3, -1.0, -1.5])"
   ]
  },
  {
   "cell_type": "markdown",
   "metadata": {},
   "source": [
    "Now we calculate the Jacobian matrix $J$. \n",
    "\n",
    "$J = \\begin{pmatrix}\n",
    "\\frac{\\partial f_1}{\\partial A} & \\frac{\\partial f_1}{\\partial \\omega} & \\frac{\\partial f_1}{\\partial \\phi} \\\\\n",
    "\\frac{\\partial f_2}{\\partial A} & \\frac{\\partial f_2}{\\partial \\omega} & \\frac{\\partial f_2}{\\partial \\phi} \\\\\n",
    "\\vdots & \\vdots & \\vdots \\\\\n",
    "\\frac{\\partial f_{21}}{\\partial A} & \\frac{\\partial f_{21}}{\\partial \\omega} & \\frac{\\partial f_{21}}{\\partial \\phi}\n",
    "\\end{pmatrix}$\n",
    "\n",
    "\n"
   ]
  },
  {
   "cell_type": "markdown",
   "metadata": {},
   "source": [
    "The jacobian matrix for our sinusoid is given by:\n",
    "\n",
    "$J = \\begin{pmatrix}\n",
    "\\sin(\\omega t_1 + \\phi) & A\\cos(\\omega t_1 + \\phi)t_1 & A\\cos(\\omega t_1 + \\phi) \\\\\n",
    "\\sin(\\omega t_2 + \\phi) & A\\cos(\\omega t_2 + \\phi)t_2 & A\\cos(\\omega t_2 + \\phi) \\\\\n",
    "\\vdots & \\vdots & \\vdots \\\\\n",
    "\\sin(\\omega t_{21} + \\phi) & A\\cos(\\omega t_{21} + \\phi)t_{21} & A\\cos(\\omega t_{21} + \\phi)\n",
    "\\end{pmatrix}$\n"
   ]
  },
  {
   "cell_type": "markdown",
   "metadata": {},
   "source": [
    "We now implement the Gauss-Newton method. We start with an initial guess of $A = 2$, $\\omega = 1$, and $\\phi = 0$. We then calculate the Jacobian matrix and the residual vector using these values and the data.\n"
   ]
  },
  {
   "cell_type": "code",
   "execution_count": 88,
   "metadata": {},
   "outputs": [],
   "source": [
    "# function to compute the jacobian given A, omega, and phi, and the length of the data\n",
    "def jacobian(t,A, omega, phi, length):\n",
    "    j = np.zeros((length, 3))\n",
    "    j[:,0] = np.sin(omega*t + phi)\n",
    "    j[:,1] = A*t*np.cos(omega*t + phi)\n",
    "    j[:,2] = A*np.cos(omega*t + phi)\n",
    "    return j\n",
    "\n",
    "# function to compute the residuals given y, A, omega, and phi, and the length of the data\n",
    "def residuals(t,y,A, omega, phi, length):\n",
    "    r = np.zeros(length)\n",
    "    r = y - A*np.sin(omega*t + phi)\n",
    "    return r    \n",
    "\n",
    "# funtion to conduct the Gauss-Newton algorithm\n",
    "def gauss_newton(t,y, A, omega, phi, length, iterations):\n",
    "    for i in range(iterations):\n",
    "        # compute the jacobian and residuals\n",
    "        j = jacobian(t,A, omega, phi, length)\n",
    "        r = residuals(t,y, A, omega, phi, length)\n",
    "        # compute the update\n",
    "        delta = np.dot(np.linalg.inv(np.dot(np.transpose(j), j)), np.dot(np.transpose(j), r))\n",
    "        # update the parameters\n",
    "        A = A + delta[0]\n",
    "        omega = omega + delta[1]\n",
    "        phi = phi + delta[2]\n",
    "        #print(\"Iteration: \", i, \" A: \", A, \" omega: \", omega, \" phi: \", phi)\n",
    "    print(\"A: \", A, \"omega: \", omega, \"phi: \", phi)\n",
    "    return A, omega, phi\n"
   ]
  },
  {
   "cell_type": "code",
   "execution_count": 89,
   "metadata": {},
   "outputs": [
    {
     "name": "stdout",
     "output_type": "stream",
     "text": [
      "A:  1.938332887309353 omega:  0.9376243719487016 phi:  1.112005415145034\n"
     ]
    }
   ],
   "source": [
    "results = gauss_newton(t=t,y=y,A=1, omega=1, phi=1, length=21, iterations=1000)"
   ]
  },
  {
   "cell_type": "code",
   "execution_count": 90,
   "metadata": {},
   "outputs": [],
   "source": [
    "# plot the sinusoid curve given the fitted parameters\n",
    "def plot_curve(t,y,A, omega, phi):\n",
    "    plt.plot(t, A*np.sin(omega*t + phi))\n",
    "    plt.plot(t, y, 'ro')\n",
    "    plt.xlabel('t')\n",
    "    plt.ylabel('y')\n",
    "    plt.show()"
   ]
  },
  {
   "cell_type": "code",
   "execution_count": 91,
   "metadata": {},
   "outputs": [
    {
     "data": {
      "image/png": "[encoded data removed]",
      "text/plain": [
       "<Figure size 640x480 with 1 Axes>"
      ]
     },
     "metadata": {},
     "output_type": "display_data"
    }
   ],
   "source": [
    "plot_curve(t=t,y=y,A=results[0], omega=results[1], phi=results[2])"
   ]
  }
 ],
 "metadata": {
  "kernelspec": {
   "display_name": "Python 3.10.4 ('math504')",
   "language": "python",
   "name": "python3"
  },
  "language_info": {
   "codemirror_mode": {
    "name": "ipython",
    "version": 3
   },
   "file_extension": ".py",
   "mimetype": "text/x-python",
   "name": "python",
   "nbconvert_exporter": "python",
   "pygments_lexer": "ipython3",
   "version": "3.10.4"
  },
  "orig_nbformat": 4,
  "vscode": {
   "interpreter": {
    "hash": "42d3138c653de2e945ccf9a541ade644ddf758aeb4c17ba7a5aef518ded5052f"
   }
  }
 },
 "nbformat": 4,
 "nbformat_minor": 2
}
