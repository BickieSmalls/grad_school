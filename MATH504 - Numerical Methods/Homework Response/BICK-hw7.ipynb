{
 "cells": [
  {
   "cell_type": "markdown",
   "metadata": {},
   "source": [
    "# Nathan Bick HW 7\n"
   ]
  },
  {
   "cell_type": "markdown",
   "metadata": {},
   "source": [
    "# Problem 1 \n",
    "Consider the sets\n",
    "\n",
    "$C = \\{(x,y)\\ |\\ ||x||_2 \\leq y \\}$ and $\\hat{C} = \\{(x,y)\\ |\\ ||x||^2_2 \\leq y \\}$ \n",
    "\n",
    "Determine whether the sets $C$ and $\\hat{C}$ are convex or not?"
   ]
  },
  {
   "cell_type": "markdown",
   "metadata": {},
   "source": [
    "We recall that a set S is convex if, for two elements in S, then the linear combination of these elements is also in S. That is, if $x,y \\in S$, then $\\lambda x + (1-\\lambda)y \\in S$.\n",
    "\n",
    "Let $(x_1,y_1),(x_2,y_2) \\in C$, then $||x_1||_2 \\leq y_1$ and $||x_2||_2 \\leq y_2$. \n"
   ]
  },
  {
   "cell_type": "markdown",
   "metadata": {},
   "source": [
    "$\\lambda ||x_1||_2 \\leq \\lambda y_1$ and $(1-\\lambda)||x_2||_2 \\leq  (1-\\lambda)y_2$. Then $||\\lambda x_1 + (1-\\lambda)x_2||_2 = ||\\lambda x_1 ||_2 + ||(1-\\lambda)x_2||_2 = \\lambda ||x_1||_2 + (1-\\lambda)||x_2||_2$ \n",
    "\n",
    "We then can use the set definition to get the following\n",
    "\n",
    "$\\lambda ||x_1||_2 + (1-\\lambda)||x_2||_2 \\leq \\lambda y_1+ (1-\\lambda)y_2$\n",
    "\n",
    "Therefore, $\\lambda x + (1-\\lambda)y \\in C$. This shows that C is convex."
   ]
  },
  {
   "cell_type": "markdown",
   "metadata": {},
   "source": [
    "Now we consider the set $\\hat{C}$. We can proceed in a very similar way to the set $C$.\n",
    "\n",
    "Let $(x_1,y_1),(x_2,y_2) \\in \\hat{C}$, then $||x_1||^2_2 \\leq y_1$ and $||x_2||^2_2 \\leq y_2$. "
   ]
  },
  {
   "cell_type": "markdown",
   "metadata": {},
   "source": [
    "Consider $||\\lambda x_1 + (1-\\lambda) x_2 ||^2_2 = \\langle \\lambda x_1 + (1-\\lambda) x_2, \\lambda x_1 + (1-\\lambda) x_2 \\rangle = \\langle \\lambda x_1, \\lambda x_1 \\rangle + 2\\langle \\lambda x_1 , (1-\\lambda)x_2 \\rangle + \\langle (1-\\lambda)x_2, (1-\\lambda)x_2 \\rangle$\n",
    "\n",
    "We then see this is equal to \n",
    "\n",
    "$\\lambda^2 ||x_1||_2^2 + (1-\\lambda)^2||x_2||^2_2 + 2\\langle \\lambda x_1 , (1-\\lambda)x_2 \\rangle$"
   ]
  },
  {
   "cell_type": "markdown",
   "metadata": {},
   "source": [
    "$= \\lambda^2 y_1 + (1-\\lambda)^2y_2 + 2\\langle \\lambda x_1 , (1-\\lambda)x_2 \\rangle$"
   ]
  },
  {
   "cell_type": "markdown",
   "metadata": {},
   "source": [
    "$= \\lambda^2 y_1 + (1-\\lambda)^2y_2 + 2\\lambda (1-\\lambda)\\langle  x_1 , x_2 \\rangle$"
   ]
  },
  {
   "cell_type": "markdown",
   "metadata": {},
   "source": [
    "We use the Cauchy Schwartz inequality to get\n",
    "\n",
    "$\\leq \\lambda^2 y_1 + (1-\\lambda)^2y_2 + 2\\lambda (1-\\lambda)  ||x_1||_2 ||x_2||_2$"
   ]
  },
  {
   "cell_type": "markdown",
   "metadata": {},
   "source": [
    "Following the definition of the set\n",
    "\n",
    "$\\leq \\lambda^2 y_1 + (1-\\lambda)^2y_2 + 2\\lambda (1-\\lambda)  \\sqrt{y_1}\\sqrt{y_2}$"
   ]
  },
  {
   "cell_type": "markdown",
   "metadata": {},
   "source": [
    "$=\\lambda \\sqrt{y_1} + (1-\\lambda)\\sqrt{y_2}$\n",
    "\n",
    "We see that the set $\\hat{C}$ is not convex."
   ]
  },
  {
   "cell_type": "markdown",
   "metadata": {},
   "source": [
    "# Problem 2 \n",
    "Consider the smooth (differentiable) functions $h: \\mathbb{R} \\rightarrow \\mathbb{R}$ and $g: \\mathbb{R}^n \\rightarrow \\mathbb{R}$. Prove that the function\n",
    "\n",
    "$f=h \\circ g : \\mathbb{R}^n \\rightarrow \\mathbb{R}$\n",
    "\n",
    "where \n",
    "\n",
    "$f(x)=h(g(x))$ and $dom f=\\{x \\in dom g | g(x) \\in dom h\\}$ is convex if one of the following conditions on h and g holds. \n",
    "\n",
    "(a) If h and g are convex functions, and h is nondeacreasing, or\n",
    "\n",
    "(b) if h is convex and nonincreasing, and g is concave."
   ]
  },
  {
   "cell_type": "markdown",
   "metadata": {},
   "source": [
    "We want to prove that for $x,y \\in domf$, then $(h \\circ f)(\\lambda x + (1-\\lambda)y) \\leq \\lambda(h\\circ g)(x) + (1 - \\lambda)(h \\circ g)$\n",
    "\n",
    " We consider option (a). know that h and g are convex. Then we see that\n",
    "\n",
    " $(h \\circ g)(\\lambda x + (1-\\lambda)y)=h(g(\\lambda x + (1-\\lambda)y))$\n",
    "\n",
    " By g convex and h nondecreasing, we then get\n",
    " \n",
    " $\\leq h(\\lambda f(x) + (1-\\lambda)f(y))$\n",
    " \n",
    " By h convex then\n",
    " \n",
    " $\\leq \\lambda h(f(x)) + (1-\\lambda)h(g(y)) = \\lambda (h \\circ g)(x) + (1-\\lambda)(h \\circ g)(y)$ "
   ]
  },
  {
   "cell_type": "markdown",
   "metadata": {},
   "source": [
    "To consider the option (b), we use the definition of functional conveity that uses the second derivative, which is that a function is convex if the Hessian is positive semidefinite.\n",
    "\n",
    "If $f=h(g))$ then $f''=h''(g')^2 + g''h'$. We know h is convex and nonincreasing, and g is concave. Therefore, $g'' <0$, $h'\\leq 0$, and $h''>0$. Therefore we see that $f'' > 0$. Therefore, f is convex. "
   ]
  }
 ],
 "metadata": {
  "kernelspec": {
   "display_name": "Python 3.10.4 ('math504')",
   "language": "python",
   "name": "python3"
  },
  "language_info": {
   "name": "python",
   "version": "3.10.4"
  },
  "orig_nbformat": 4,
  "vscode": {
   "interpreter": {
    "hash": "42d3138c653de2e945ccf9a541ade644ddf758aeb4c17ba7a5aef518ded5052f"
   }
  }
 },
 "nbformat": 4,
 "nbformat_minor": 2
}
