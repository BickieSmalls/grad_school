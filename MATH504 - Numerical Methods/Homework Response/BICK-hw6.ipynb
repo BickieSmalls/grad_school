{
 "cells": [
  {
   "cell_type": "code",
   "execution_count": 12,
   "metadata": {},
   "outputs": [],
   "source": [
    "import math\n",
    "import pandas as pd\n",
    "pd.options.display.float_format = '{:.2f}'.format"
   ]
  },
  {
   "cell_type": "markdown",
   "metadata": {},
   "source": [
    "## Nathan Bick HW6\n",
    "\n",
    "1. Apply a fixed point method to find the root of $cosx=sinx$ on $0,\\pi/2$, by converting the equation into a fixed point equation\n",
    "\n",
    "$$x=g(x)=x+cosx-sinx$$ \n",
    "\n",
    "given $x_0=0$. Note that $cos(\\pi/4)=sin(\\pi/4)$, so $x^*=\\pi/4$. "
   ]
  },
  {
   "cell_type": "code",
   "execution_count": 33,
   "metadata": {},
   "outputs": [
    {
     "name": "stdout",
     "output_type": "stream",
     "text": [
      "True root is 0.7853981633974483\n",
      "0\n",
      "Iteration Table\n",
      "k: 1\n",
      "x_k: 1.0\n",
      "g(x_k): 0.6988313210602433\n",
      "e_k: 0.08656684233720502\n",
      "e_k/e_{k-1}: 0.4033835110998099\n",
      "\n",
      "\n",
      "Iteration Table\n",
      "k: 10\n",
      "x_k: 0.785323533884696\n",
      "g(x_k): 0.7854290759536855\n",
      "e_k: 3.0912556237217004e-05\n",
      "e_k/e_{k-1}: 0.41421356105897267\n",
      "\n",
      "\n",
      "Iteration Table\n",
      "k: 20\n",
      "x_k: 0.7853981523017728\n",
      "g(x_k): 0.7853981679934277\n",
      "e_k: 4.595979374855119e-09\n",
      "e_k/e_{k-1}: 0.4142135716927274\n",
      "\n",
      "\n",
      "Iteration Table\n",
      "k: 30\n",
      "x_k: 0.7853981633957987\n",
      "g(x_k): 0.7853981633981315\n",
      "e_k: 6.832312493543213e-13\n",
      "e_k/e_{k-1}: 0.41418764302059496\n",
      "\n",
      "\n"
     ]
    }
   ],
   "source": [
    "# we check the value of pi/4\n",
    "true_root = math.pi/4\n",
    "print(\"True root is \" + str(true_root))\n",
    "\n",
    "# Our g(x) from x = g(x)\n",
    "def g(x):\n",
    "    y = x+math.cos(x)-math.sin(x)\n",
    "    return y\n",
    "  \n",
    "# Fixed Point Iteration\n",
    "x = 0\n",
    "e = abs(x - true_root)\n",
    "print(x)\n",
    "for i in range(0,32):\n",
    "    x_tmp = x\n",
    "    x = g(x_tmp)\n",
    "    e_tmp = e\n",
    "    e = abs(x - true_root)\n",
    "    e_ratio = e/e_tmp\n",
    "    if i in [1,10,20,30]:\n",
    "        print(\"Iteration Table\")\n",
    "        print(\"k: \" + str(i))\n",
    "        print(\"x_k: \" + str(x_tmp))\n",
    "        print(\"g(x_k): \" + str(x))\n",
    "        print(\"e_k: \" + str(e))\n",
    "        print(\"e_k/e_{k-1}: \" + str(e_ratio))\n",
    "        print(\"\\n\")\n",
    "\n"
   ]
  },
  {
   "cell_type": "markdown",
   "metadata": {},
   "source": [
    "The above results are summarized in the table below."
   ]
  },
  {
   "cell_type": "markdown",
   "metadata": {},
   "source": [
    "| k | $x_k$ | $g(x_k)$ | $e_k$ | $\\frac{e_k}{e_{k-1}}$ |\n",
    "| --- | --- | --- | --- | --- |\n",
    "| 1 | 1.0 | 0.6988 | 0.0865 | 0.4033 | \n",
    "| 10 | 0.7853 | 0.7854 | 3.0912e-05 | 0.4142 |\n",
    "| 20 | 0.7853 | 0.7853 | 4.595e-09 | 0.4142 | \n",
    "| 30 | 0.7853 | 0.7853 | 6.8323e-13 | 0.4141 | "
   ]
  },
  {
   "cell_type": "markdown",
   "metadata": {},
   "source": [
    "2. Let $f(x)=x^6-x-1$.\n",
    "\n",
    "(a) Use 4 iterations of the Newton's method with $x_0=2$ to get an approximate root for this equation.\n",
    "(b) Use 4 iterations of the Secant method with $x_0=2$ and $x_1=1$ to get an approximate root for this equation."
   ]
  },
  {
   "cell_type": "markdown",
   "metadata": {},
   "source": [
    "Newton's Method uses the Taylor series approximation of $f(x)$ at $x_k$ rather than $f$. We recall the Taylor approximation is given as $f(x) \\approx l(x)=f(x_k) + f'(x_k)(x-x_k)$.\n",
    "\n",
    "We solve for $l(x)=0$ rather than $f(x)=0$. This is equivalent to $x_{k+1}=x_k-\\frac{f(x_k)}{f'(x_k)}$. We use this to get the kth iteration of Newton's method. \n"
   ]
  },
  {
   "cell_type": "markdown",
   "metadata": {},
   "source": [
    "Firstly, we have $x_0=2$. Our function is $f(x)=x^6-x-1$, so $f'(x)=6x^5-1$. Evaluating at $x_0=2$, $f(2)=2^6-2-1=61$ and $f'(2)=6(2)^5-1=191$.\n",
    "\n",
    "Therefore we have $x_1=2-\\frac{61}{191}=\\frac{321}{191}\\approx 1.681$\n",
    "\n",
    "The later iterations are shown implemented in python. "
   ]
  },
  {
   "cell_type": "code",
   "execution_count": 5,
   "metadata": {},
   "outputs": [
    {
     "name": "stdout",
     "output_type": "stream",
     "text": [
      "2\n",
      "1.6806282722513088\n",
      "1.4307389882390624\n",
      "1.2549709561094364\n",
      "1.1615384327733131\n"
     ]
    }
   ],
   "source": [
    "# now implement in code to check our work for first iteration and provide additional iterations\n",
    "# Our f(x) function\n",
    "def f(x):\n",
    "    y = x**6-x-1\n",
    "    return y\n",
    "# derivative\n",
    "def df(x):\n",
    "    y = 6*x**5-1\n",
    "    return y\n",
    "\n",
    "\n",
    "x=2\n",
    "print(x)\n",
    "for i in range(0,4):\n",
    "    x = x-f(x)/df(x)\n",
    "    print(x)"
   ]
  },
  {
   "cell_type": "markdown",
   "metadata": {},
   "source": [
    "The secant method is a modification of Newton's method, replacing the derivative $f'(x)$ with a difference-based approximation, namely $f'(x_k) \\approx \\frac{f(x_k)-f(k_{k-1})}{x_k-x_{k-1}}$.\n",
    "\n",
    "So the iteration of the secant method is given by $x_{k+1}=x_k-\\frac{x_{k-1}f(x_k)-x_kf(x_{x_k-1})}{f(x_k)-f(x_{k-1})}$, requiring two initial points. "
   ]
  },
  {
   "cell_type": "markdown",
   "metadata": {},
   "source": [
    "Firstly, we have $x_0=2$ and $x_1=1$. So we have $f(2)=2^6-2-1=61$ and $f(1)=1^6-1-1=-1$. We therefore have $x_2=\\frac{1*61-2*(-1)}{61-(-1)}=63/62=\\approx 1.0161$  \n",
    "\n",
    "Then the remaining iterations are shown in python code below. "
   ]
  },
  {
   "cell_type": "code",
   "execution_count": 32,
   "metadata": {},
   "outputs": [
    {
     "name": "stdout",
     "output_type": "stream",
     "text": [
      "2\n",
      "1\n",
      "1.0161290322580645\n",
      "2\n",
      "1.0306747541311725\n",
      "1.0161290322580645\n",
      "1.1756889442904006\n",
      "1.0306747541311725\n",
      "1.1236790653714195\n",
      "1.1756889442904006\n"
     ]
    }
   ],
   "source": [
    "# Our f(x) function\n",
    "def f(x):\n",
    "    y = x**6-x-1\n",
    "    return y\n",
    "    \n",
    "x0=2\n",
    "x1=1\n",
    "print(x0);print(x1)\n",
    "for i in range(0,4):\n",
    "    fx0 = f(x0)\n",
    "    fx1 = f(x1)\n",
    "    xtemp = x0\n",
    "    x0 = (x0*fx1 - x1*fx0) / (fx1-fx0)\n",
    "    x1 = xtemp  \n",
    "    print(x0)\n",
    "    print(x1)"
   ]
  },
  {
   "cell_type": "markdown",
   "metadata": {},
   "source": [
    "3. Consider the equation $e^{100x}(x-2)=0$. Apply Newton's method several times with $x_0=1$. What do you observe?"
   ]
  },
  {
   "cell_type": "markdown",
   "metadata": {},
   "source": [
    "Below we implement the Newton's method for the function several times and observe the outputs. We see that there is a stready decline in the value of x, not a convergence. This may be because the true root is $x=2$, and our choice of initital value is too far from that. "
   ]
  },
  {
   "cell_type": "code",
   "execution_count": 16,
   "metadata": {},
   "outputs": [
    {
     "name": "stdout",
     "output_type": "stream",
     "text": [
      "1\n",
      "0.98989898989899\n",
      "0.9797989999989798\n",
      "0.9697000097980198\n",
      "0.9596019994079774\n",
      "0.949504949530219\n",
      "0.9394088414324873\n",
      "0.9293136569269025\n",
      "0.919219378349024\n",
      "0.9091259885379105\n",
      "0.899033470817122\n"
     ]
    }
   ],
   "source": [
    "\n",
    "# Our f(x) function\n",
    "def f(x):\n",
    "    y = math.e**(100*x)*(x-2)\n",
    "    return y\n",
    "# derivative\n",
    "def df(x):\n",
    "    y = 100*math.e**(100*x)*(x-2) + math.e**(100*x)\n",
    "    return y\n",
    "\n",
    "\n",
    "x=1\n",
    "print(x)\n",
    "for i in range(0,10):\n",
    "    x = x-f(x)/df(x)\n",
    "    print(x)"
   ]
  }
 ],
 "metadata": {
  "kernelspec": {
   "display_name": "Python 3.10.4 ('math504')",
   "language": "python",
   "name": "python3"
  },
  "language_info": {
   "codemirror_mode": {
    "name": "ipython",
    "version": 3
   },
   "file_extension": ".py",
   "mimetype": "text/x-python",
   "name": "python",
   "nbconvert_exporter": "python",
   "pygments_lexer": "ipython3",
   "version": "3.10.4"
  },
  "orig_nbformat": 4,
  "vscode": {
   "interpreter": {
    "hash": "42d3138c653de2e945ccf9a541ade644ddf758aeb4c17ba7a5aef518ded5052f"
   }
  }
 },
 "nbformat": 4,
 "nbformat_minor": 2
}
