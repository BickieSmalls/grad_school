{
 "cells": [
  {
   "cell_type": "markdown",
   "metadata": {},
   "source": [
    "# Problem 1\n",
    "Create a $5 \\times 5$ matrix $A$ using the command `hilb(5)` in Matlab, or `scipy.linalg.hilbert(5)` in Python. Generate a random vector $x$, and compute $b=Ax$. Add a tiny amount of noise to $b$, call it $\\hat{b}$. Then recover $\\hat{x}$ from $A\\hat{x}=\\hat{b}$.\n",
    "\n",
    "How accurate is the recovered solution? Why did this happen? You don't need to provide any code or console output, just describe what you did and what you got in a few sentences."
   ]
  },
  {
   "cell_type": "code",
   "execution_count": 75,
   "metadata": {},
   "outputs": [],
   "source": [
    "import scipy\n",
    "import pandas as pd\n",
    "import numpy as np\n",
    "import random"
   ]
  },
  {
   "cell_type": "markdown",
   "metadata": {},
   "source": [
    "What I did was generate A, a random x, and then calculate b. I see that if we make a tiny amount of noise change to b, there is a very large change to x. That is, the difference between x and x-hat is very large. This means that this system is very unstable. \n",
    "\n",
    "Below we compare x to x-hat."
   ]
  },
  {
   "cell_type": "code",
   "execution_count": 7,
   "metadata": {},
   "outputs": [
    {
     "name": "stdout",
     "output_type": "stream",
     "text": [
      "The following is x\n",
      "[[0.19166311]\n",
      " [0.95892318]\n",
      " [0.37570231]\n",
      " [0.52487727]\n",
      " [0.32844751]]\n",
      "The following is b\n",
      "[[0.99326762]\n",
      " [0.6691149 ]\n",
      " [0.51315958]\n",
      " [0.41835587]\n",
      " [0.35392874]]\n",
      "The following is b-hat\n",
      "[[0.9936499 ]\n",
      " [0.66831323]\n",
      " [0.51268276]\n",
      " [0.4177889 ]\n",
      " [0.35325633]]\n",
      "The following is x-hat\n",
      "[[ 0.31121013]\n",
      " [-0.7598628 ]\n",
      " [ 6.62956426]\n",
      " [-7.78092293]\n",
      " [ 3.98873572]]\n"
     ]
    }
   ],
   "source": [
    "A = scipy.linalg.hilbert(5)\n",
    "\n",
    "x = np.random.rand(5,1)\n",
    "print(\"The following is x\")\n",
    "print(x)\n",
    "\n",
    "b = np.matmul(A,x)\n",
    "print(\"The following is b\")\n",
    "print(b)\n",
    "\n",
    "epsilon = np.random.uniform(-1,1,(5,1)) / 1000\n",
    "\n",
    "b_hat = b + epsilon\n",
    "\n",
    "print(\"The following is b-hat\")\n",
    "print(b_hat)\n",
    "\n",
    "x_hat = np.linalg.solve(A, b_hat)\n",
    "print(\"The following is x-hat\")\n",
    "print(x_hat)\n",
    "\n"
   ]
  },
  {
   "cell_type": "markdown",
   "metadata": {},
   "source": []
  },
  {
   "cell_type": "markdown",
   "metadata": {},
   "source": [
    "# Problem 2\n",
    "Construct any $3 \\times 3$ invertible symmetric matrix with no entry equal to 0. \n",
    "\n",
    "a) Using the function `eig` in Matlab (or equivalent) to find the dominant eigenvalue $\\lambda_{max}^{*}$ and its corresponding eigenvector $v^{*}$.\n",
    "\n",
    "b) Use the Power Method to find the approximate dominate eigenvector $v^{(k)}$ and eigenvalue $\\mu_k$ of this matrix for different stopping criteria.  \n",
    "\n",
    "$$\\frac{|| v^{(k)} - v^*||}{||v^*||_2} \\leq \\epsilon$$ \n",
    "\n",
    "Record these data in the folloiwing table for given different \\epsilon values.\n",
    "\n",
    "Note that in practice, we don't know the exact eigenvalues and eigenvectors. So the stopping criteria needs to be replaced by $$\\frac{|| v^{(k)} - v^{(k-1)}||}{||v^{(k-1)}||_2}$$\n"
   ]
  },
  {
   "cell_type": "markdown",
   "metadata": {},
   "source": [
    "First we respond to part a. We use the eig function on a constructed matrix. And we present the dominant eigenvector and eigenvalue pair. "
   ]
  },
  {
   "cell_type": "code",
   "execution_count": 71,
   "metadata": {},
   "outputs": [
    {
     "name": "stdout",
     "output_type": "stream",
     "text": [
      "Dominant eigenvalue is:\n",
      "14.30073525436773\n",
      "Dominant eigenvector is:\n",
      "[0.2614964  0.56231339 0.78448919]\n"
     ]
    }
   ],
   "source": [
    "A = np.array([\n",
    "  [1,2,3],\n",
    "  [2,5,6],\n",
    "  [3,6,9]  \n",
    "])\n",
    "\n",
    "A_eig = np.linalg.eig(A)\n",
    "\n",
    "dominant_e_val = A_eig[0][0]\n",
    "dominant_e_vec = A_eig[1].transpose()[0]*1\n",
    "\n",
    "print(\"Dominant eigenvalue is:\")\n",
    "print(dominant_e_val)\n",
    "\n",
    "print(\"Dominant eigenvector is:\")\n",
    "print(dominant_e_vec)"
   ]
  },
  {
   "cell_type": "markdown",
   "metadata": {},
   "source": [
    "For part b, we implement the power method. Following the desription of the method in the lecture, we first get the $v^{(i-1)}$ vector and proceed from there."
   ]
  },
  {
   "cell_type": "code",
   "execution_count": 77,
   "metadata": {},
   "outputs": [
    {
     "name": "stdout",
     "output_type": "stream",
     "text": [
      "0.001\n",
      "2\n",
      "[ 3.73913043  8.04347826 11.2173913 ]\n",
      "[0.26146582 0.56245555 0.78439746]\n",
      "14.300567107750473\n",
      "0.000168146617257392\n",
      "1e-06\n",
      "3\n",
      "[ 3.73956931  8.04159416 11.21870792]\n",
      "[0.2614949  0.56232034 0.78448471]\n",
      "14.300734852336273\n",
      "4.0203145701411813e-07\n",
      "1e-09\n",
      "4\n",
      "[ 3.7395897   8.04149973 11.21876909]\n",
      "[0.26149632 0.56231373 0.78448897]\n",
      "14.300735253406495\n",
      "9.612346474341393e-10\n"
     ]
    }
   ],
   "source": [
    "for stop_point in [1e-3,1e-6,1e-9]:\n",
    "    iter = 0\n",
    "    x = np.array([1,1,1])\n",
    "    v = x/np.linalg.norm(x)\n",
    "    eigval = np.matmul(v.transpose(),x)\n",
    "    # define stopping criteria\n",
    "    stopping_criterion = abs(eigval - dominant_e_val)\n",
    "\n",
    "    while stopping_criterion > stop_point:\n",
    "        iter += 1\n",
    "        v_old = v\n",
    "        x = np.matmul(A,v)\n",
    "        v = x/np.linalg.norm(x)\n",
    "        eigval = np.matmul(v_old.transpose(),x)\n",
    "        stopping_criterion = abs(eigval - dominant_e_val)\n",
    "    print(stop_point)    \n",
    "    print(iter)\n",
    "    print(x)\n",
    "    print(v)\n",
    "    print(eigval)\n",
    "    print(stopping_criterion)"
   ]
  },
  {
   "cell_type": "code",
   "execution_count": 73,
   "metadata": {},
   "outputs": [
    {
     "name": "stdout",
     "output_type": "stream",
     "text": [
      "0.001\n",
      "2\n",
      "[ 3.73913043  8.04347826 11.2173913 ]\n",
      "[0.26146582 0.56245555 0.78439746]\n",
      "14.300567107750473\n",
      "0.00017192422741231806\n",
      "1e-06\n",
      "4\n",
      "[ 3.7395897   8.04149973 11.21876909]\n",
      "[0.26149632 0.56231373 0.78448897]\n",
      "14.300735253406495\n",
      "4.1105848686689787e-07\n",
      "1e-09\n",
      "6\n",
      "[ 3.73959074  8.04149488 11.21877222]\n",
      "[0.2614964  0.56231339 0.78448919]\n",
      "14.30073525436772\n",
      "9.828113264581863e-10\n"
     ]
    }
   ],
   "source": [
    "for stop_point in [1e-3,1e-6,1e-9]:\n",
    "    iter = 0\n",
    "    x = np.array([1,1,1])\n",
    "    v = x/np.linalg.norm(x)\n",
    "    eigval = np.matmul(v.transpose(),x)\n",
    "    # define stopping criteria\n",
    "    stopping_criterion = np.linalg.norm(v - dominant_e_vec)/np.linalg.norm(dominant_e_vec)\n",
    "\n",
    "    while stopping_criterion > stop_point:\n",
    "        iter += 1\n",
    "        v_old = v\n",
    "        x = np.matmul(A,v)\n",
    "        v = x/np.linalg.norm(x)\n",
    "        eigval = np.matmul(v_old.transpose(),x)\n",
    "        stopping_criterion = np.linalg.norm(v - dominant_e_vec)/np.linalg.norm(dominant_e_vec)\n",
    "    print(stop_point)    \n",
    "    print(iter)\n",
    "    print(x)\n",
    "    print(v)\n",
    "    print(eigval)\n",
    "    print(stopping_criterion)"
   ]
  },
  {
   "cell_type": "code",
   "execution_count": 74,
   "metadata": {},
   "outputs": [
    {
     "name": "stdout",
     "output_type": "stream",
     "text": [
      "0.001\n",
      "3\n",
      "[ 3.73956931  8.04159416 11.21870792]\n",
      "[0.2614949  0.56232034 0.78448471]\n",
      "0.00016351762803709012\n",
      "1e-06\n",
      "3\n",
      "[ 3.73956931  8.04159416 11.21870792]\n",
      "[0.2614949  0.56232034 0.78448471]\n",
      "0.00016351762803709012\n",
      "1e-09\n",
      "3\n",
      "[ 3.73956931  8.04159416 11.21870792]\n",
      "[0.2614949  0.56232034 0.78448471]\n",
      "0.00016351762803709012\n"
     ]
    }
   ],
   "source": [
    "for stop_point in [1e-3,1e-6,1e-9]:\n",
    "    iter = 0\n",
    "    x = np.array([1,1,1])\n",
    "    v = x/np.linalg.norm(x)\n",
    "    eigval = np.matmul(v.transpose(),x)\n",
    "    # define stopping criteria\n",
    "    stopping_criterion = np.linalg.norm(v - dominant_e_vec)/np.linalg.norm(dominant_e_vec)\n",
    "\n",
    "    while stopping_criterion > 0.001:\n",
    "        iter += 1\n",
    "        v_old = v\n",
    "        x = np.matmul(A,v)\n",
    "        v = x/np.linalg.norm(x)\n",
    "        eigval = np.matmul(v_old.transpose(),x)\n",
    "        stopping_criterion = np.linalg.norm(v - v_old)/np.linalg.norm(v_old)\n",
    "    print(stop_point)\n",
    "    print(iter)\n",
    "    print(x)\n",
    "    print(v)\n",
    "    print(stopping_criterion)"
   ]
  },
  {
   "cell_type": "markdown",
   "metadata": {},
   "source": [
    "We get the following results table:\n",
    "\n",
    "$|\\mu_k - \\lambda_{max}^*|$ \n",
    "\n",
    "| $\\epsilon$ | iteration | value | \n",
    "| --- | --- | --- |\n",
    "| 1e-3 | 2 | 0.000168146617257392 |\n",
    "| 1e-6 | 3 | 4.0203145701411813e-07 |\n",
    "| 1e-9 | 4 | 9.612346474341393e-10 |\n",
    "\n",
    "$\\frac{|| v^{(k)} - v^*||}{||v^*||_2} \\leq \\epsilon$\n",
    "\n",
    "| $\\epsilon$ | iteration | value | \n",
    "| --- | --- | --- |\n",
    "| 1e-3 | 2 | 0.00017192422741231806 |\n",
    "| 1e-6 | 3 | 4.1105848686689787e-07 |\n",
    "| 1e-9 | 4 | 9.828113264581863e-10 |\n",
    "\n",
    "$\\frac{|| v^{(k)} - v^{(k-1)}||}{||v^{(k-1)}||_2}$\n",
    "\n",
    "| $\\epsilon$ | iteration | value | \n",
    "| --- | --- | --- |\n",
    "| 1e-3 | 3 | 0.0.00016351762803709012 |\n",
    "| 1e-6 | 3 | 0.00016351762803709012 |\n",
    "| 1e-9 | 3 | 0.00016351762803709012 |\n",
    "\n"
   ]
  },
  {
   "cell_type": "markdown",
   "metadata": {},
   "source": [
    "# Problem 3\n",
    "Build a connected network graph of 5 nodes, that is, a network with 5 pages. Determine the highest rated web page using the page rank approach discussed in the lecture. "
   ]
  },
  {
   "cell_type": "markdown",
   "metadata": {},
   "source": [
    "In the following code, we follow the example given in the lecture slides. The eigenvalue calculatoin shows us that the node with the largest page rank is the 4th node, out of 5. \n",
    "\n",
    "We first start with an adjacency matrix, and create a transition probability matrix. We find the eigen pairs of its transpose, and then can calcualte the value needed for page rank algorithm. "
   ]
  },
  {
   "cell_type": "code",
   "execution_count": 81,
   "metadata": {},
   "outputs": [
    {
     "name": "stdout",
     "output_type": "stream",
     "text": [
      "[[0.         0.33333333 0.33333333 0.33333333 0.        ]\n",
      " [0.         0.         0.         1.         0.        ]\n",
      " [0.         0.         0.         0.         1.        ]\n",
      " [0.33333333 0.         0.33333333 0.         0.33333333]\n",
      " [0.         0.         0.         1.         0.        ]]\n"
     ]
    },
    {
     "data": {
      "text/plain": [
       "array([0.125     +0.j, 0.04166667+0.j, 0.16666667+0.j, 0.375     +0.j,\n",
       "       0.29166667+0.j])"
      ]
     },
     "execution_count": 81,
     "metadata": {},
     "output_type": "execute_result"
    }
   ],
   "source": [
    "# define adjacency matrix with 5 nodes\n",
    "A = np.array([\n",
    "    [0,1,1,1,0],\n",
    "    [0,0,0,1,0],\n",
    "    [0,0,0,0,1],\n",
    "    [1,0,1,0,1],\n",
    "    [0,0,0,1,0]\n",
    "])\n",
    "\n",
    "# turn this previous matrix into transition probability matrix\n",
    "B = A/A.sum(axis=1)[:,None]\n",
    "\n",
    "# then B transpose\n",
    "B_T = B.transpose()\n",
    "\n",
    "# get the eigenpairs\n",
    "B_T_eig = np.linalg.eig(B_T)\n",
    "\n",
    "# get the e-vals and e-vecs distinctly\n",
    "B_T_e_vals = B_T_eig[0]\n",
    "B_T_e_vecs = B_T_eig[1].transpose()\n",
    "\n",
    "B_T_e_vecs[0]/B_T_e_vecs[0].sum(axis=0)"
   ]
  }
 ],
 "metadata": {
  "kernelspec": {
   "display_name": "Python 3.10.4 ('math504')",
   "language": "python",
   "name": "python3"
  },
  "language_info": {
   "codemirror_mode": {
    "name": "ipython",
    "version": 3
   },
   "file_extension": ".py",
   "mimetype": "text/x-python",
   "name": "python",
   "nbconvert_exporter": "python",
   "pygments_lexer": "ipython3",
   "version": "3.10.4"
  },
  "orig_nbformat": 4,
  "vscode": {
   "interpreter": {
    "hash": "42d3138c653de2e945ccf9a541ade644ddf758aeb4c17ba7a5aef518ded5052f"
   }
  }
 },
 "nbformat": 4,
 "nbformat_minor": 2
}
