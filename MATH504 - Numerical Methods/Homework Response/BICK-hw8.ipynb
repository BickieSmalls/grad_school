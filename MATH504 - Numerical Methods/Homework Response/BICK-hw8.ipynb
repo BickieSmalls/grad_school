{
 "cells": [
  {
   "cell_type": "code",
   "execution_count": 33,
   "metadata": {},
   "outputs": [],
   "source": [
    "import matplotlib.pyplot as plt\n",
    "import numpy as np\n",
    "import random\n",
    "import pandas as pd"
   ]
  },
  {
   "cell_type": "markdown",
   "metadata": {},
   "source": [
    "# Problem 1\n",
    "\n",
    "Let $f(x)=-x_1^2-4x_2^2$. Consider two different points\n",
    "\n",
    "$\\tilde{x} = [2,0]^T$ and $\\bar{x} = [\\sqrt{3},1/2]^T$\n",
    "\n",
    "Show that $\\nabla f(\\tilde{x})^Tx'(\\tilde{t}) = \\nabla f(\\bar{x})^Tx'(\\bar{t})$\n",
    "\n",
    "Hint: Consider the level set of f at the level $c=-4$. Define a parametric curve of a curve passing through $\\tilde{x}$ and $\\bar{x}$, similar to what we did in lecture. "
   ]
  },
  {
   "cell_type": "markdown",
   "metadata": {},
   "source": [
    "First we calculate the gradient of our function f. This is given as \n",
    "\n",
    "$\\nabla f =\\begin{pmatrix} \n",
    "-2x_1 \\\\\n",
    "-8x_2\n",
    "\\end{pmatrix}$\n",
    "\n",
    "We can evaluate the gradient at the two given points as below\n",
    "\n",
    "$\\nabla f(\\tilde{x}) =\\begin{pmatrix} -2*2 \\\\ -8*0\\end{pmatrix} =\\begin{pmatrix} -4 \\\\ 0\\end{pmatrix}$\n",
    "\n",
    "$\\nabla f(\\bar{x}) =\\begin{pmatrix} -2*\\sqrt{3} \\\\ -8*(1/2)\\end{pmatrix} =\\begin{pmatrix} -2\\sqrt{3} \\\\ -4\\end{pmatrix}$\n"
   ]
  },
  {
   "cell_type": "markdown",
   "metadata": {},
   "source": [
    "We consider the level set of f at the level $c=-4$. \n",
    "\n",
    "This set is $S=\\{x \\in \\mathbb{R}\\ |\\ x_1^2 + 4x_2^2 = 4 \\}$. We use this to parametrize to get $x(t) = [2cos(t), sin(t)]^T$. We see that therefore for $\\tilde{x}$, then $\\tilde{t}=0$ and for $\\bar{x}$, then $\\bar{t}=\\pi/6$\n",
    "\n",
    "We then need the derivative of our parametrization, getting $x'(t) = [-2sin(t), cos(t)]^T$"
   ]
  },
  {
   "cell_type": "markdown",
   "metadata": {},
   "source": [
    "We evaluate this at the two points, getting\n",
    "\n",
    "$$x'(\\tilde{x}) =\\begin{pmatrix} -2\\sin(0) \\\\ \\cos(0) \\end{pmatrix} =\\begin{pmatrix} 0 \\\\ 1\\end{pmatrix}$$\n",
    "\n",
    "$$x'(\\bar{x}) =\\begin{pmatrix} -2\\sin(\\pi/6) \\\\ \\cos(\\pi/6) \\end{pmatrix} =\\begin{pmatrix} -1 \\\\ \\sqrt{3}/2\\end{pmatrix}$$\n"
   ]
  },
  {
   "cell_type": "markdown",
   "metadata": {},
   "source": [
    "From the lecture notes, we know that the vetcors $\\nabla f(x)$ and $x'(t)$ are orthogonal, so both of the above  should equal 0 and therefore equal each other. Let us check. \n",
    "\n",
    "$\\nabla{f(\\tilde{x})}^Tx'(\\tilde{x})=\\begin{pmatrix} -4 & 0 \\end{pmatrix}\\begin{pmatrix} 0 \\\\ 1 \\end{pmatrix} = 0$\n",
    "\n",
    "$\\nabla{f(\\bar{x})}^Tx'(\\bar{x})=\\begin{pmatrix} -2\\sqrt{3} & -4 \\end{pmatrix}\\begin{pmatrix} -1 \\\\ \\sqrt{3}/2 \\end{pmatrix} = 0$\n",
    "\n",
    "Therefore, these are equal to each other and equal to 0."
   ]
  },
  {
   "cell_type": "markdown",
   "metadata": {},
   "source": [
    "# Problem 2\n",
    "\n",
    "Consider the system of equations\n",
    "\n",
    "$(x-1)^2 + (y-1)^2 - 1 = 0$\n",
    "\n",
    "$x+y-1=0$\n",
    "\n",
    "a. Draw the set of points on the plane tht satisfy each equation and indicate the solutions of the system\n",
    "\n",
    "b. Solve the system exactly.\n",
    "\n",
    "c. Apply Newton's method twice with $[x_0,y_0]^T = [1/2,1/2]^T$. Illustrate the corresponding steps geometrically. \n",
    "\n",
    "d. (Coding). Write a code to solve this problem and plot the trajectory of solution in a x-y plane, for N=30 iterations. "
   ]
  },
  {
   "cell_type": "markdown",
   "metadata": {},
   "source": [
    "We see that the form of the first equation is that of a circle centered on the point (1,1) of radius 1. The second equation is that of a line. We plot the two using python packages. "
   ]
  },
  {
   "cell_type": "code",
   "execution_count": 7,
   "metadata": {},
   "outputs": [
    {
     "data": {
      "image/png": "[encoded data removed]",
      "text/plain": [
       "<Figure size 640x480 with 1 Axes>"
      ]
     },
     "metadata": {},
     "output_type": "display_data"
    }
   ],
   "source": [
    "# 100 linearly spaced numbers\n",
    "x = np.linspace(-3,3,100)\n",
    "\n",
    "# the functions\n",
    "y = 1-x\n",
    "circle1 = plt.Circle((1, 1), 1, color='blue', fill=False)\n",
    "\n",
    "# setting the axes at the centre\n",
    "fig = plt.figure()\n",
    "ax = fig.add_subplot(1, 1, 1)\n",
    "ax.spines['left'].set_position('center')\n",
    "ax.spines['bottom'].set_position('zero')\n",
    "ax.spines['right'].set_color('none')\n",
    "ax.spines['top'].set_color('none')\n",
    "ax.xaxis.set_ticks_position('bottom')\n",
    "ax.yaxis.set_ticks_position('left')\n",
    "\n",
    "# plot the function\n",
    "plt.plot(x,y, 'r')\n",
    "ax.add_patch(circle1)\n",
    "\n",
    "# show the plot\n",
    "plt.show()"
   ]
  },
  {
   "cell_type": "markdown",
   "metadata": {},
   "source": [
    "b. Solving the system exactly, we look for the intersections of the two equations. First we see from the plot that the intersections occur at (0,1) and (1,0)."
   ]
  },
  {
   "cell_type": "markdown",
   "metadata": {},
   "source": [
    "c. Now we apply Newton's method. We know that for these kinds of equations, Newton's method is given as\n",
    "\n",
    "$x^{(k+1)} = x^{(k)} - [J_f(x^{(k)})]^{-1}f(x^{(k)})$\n",
    "\n",
    "Where $J$ is the jacobian of the function $f$ at $x_0$. We recall that $x_0 = [1/2,1/2]^T$"
   ]
  },
  {
   "cell_type": "markdown",
   "metadata": {},
   "source": [
    "First we calculate the jacobian for our function. The jacobian is the matric of the form below:\n",
    "\n",
    "$J = \\begin{pmatrix} \n",
    "\\frac{\\partial{f_1}}{\\partial{x}} & \\frac{\\partial{f_1}}{\\partial{y}} \\\\\n",
    "\\frac{\\partial{f_2}}{\\partial{x}} & \\frac{\\partial{f_2}}{\\partial{y}}\n",
    "\\end{pmatrix}$\n",
    "\n",
    "We get $\\frac{\\partial{f_1}}{\\partial{x}} = 2(x-1)$, $\\frac{\\partial{f_1}}{\\partial{y}} = 2(y-1)$ , $\\frac{\\partial{f_2}}{\\partial{x}} = 1$, $\\frac{\\partial{f_2}}{\\partial{y}} = 1$\n"
   ]
  },
  {
   "cell_type": "markdown",
   "metadata": {},
   "source": [
    "Therefore, the jacobian is given below, and then evaluated at $x_0$\n",
    "\n",
    "$J(x_0) = \\left. \\begin{pmatrix} \n",
    "2x-2 & 2y-2 \\\\\n",
    "1 & 1 \n",
    "\\end{pmatrix} \\right\\rvert_{x_0 = (1/2,1/2)^T} =\n",
    "\\begin{pmatrix} \n",
    "-1 & -1 \\\\\n",
    "1 & 1 \n",
    "\\end{pmatrix}$\n",
    "\n",
    "The inverse of this is does not exist because it is singular, so we add some noise to get\n",
    "\n",
    "$\\begin{pmatrix} \n",
    "0 & -1 \\\\\n",
    "1 & 1 \n",
    "\\end{pmatrix}$ giving inverse of $\\begin{pmatrix} \n",
    "-1 & 1 \\\\\n",
    "-1 & 0 \n",
    "\\end{pmatrix}$\n"
   ]
  },
  {
   "cell_type": "markdown",
   "metadata": {},
   "source": [
    "We then use the formula for newton's method for the first iteration. \n",
    "\n",
    "$\\begin{pmatrix} 1/2 \\\\ 1/2 \\end{pmatrix} - \\begin{pmatrix} -1 & 1 \\\\ -1 & 0 \\end{pmatrix} * \\begin{pmatrix} (1/2 - 1)^2 + (1/2 - 1)^2 \\\\ 1/2 + 1/2 \\end{pmatrix}$"
   ]
  },
  {
   "cell_type": "markdown",
   "metadata": {},
   "source": [
    "$\\begin{pmatrix} 1/2 \\\\ 1/2 \\end{pmatrix} - \\begin{pmatrix} -1 & 1 \\\\ -1 & 0 \\end{pmatrix} * \\begin{pmatrix} 1/2 \\\\ 1 \\end{pmatrix} = \\begin{pmatrix} 0 \\\\ 1 \\end{pmatrix}$"
   ]
  },
  {
   "cell_type": "markdown",
   "metadata": {},
   "source": [
    "Now we have to resolve the jacobian with this new point to get\n",
    "\n",
    "$J = \\begin{pmatrix} -2 & 0 \\\\ 1 & 1 \\end{pmatrix}$ with and inverse of \n",
    "\n",
    "$\\begin{pmatrix} -1/2 & 0 \\\\ 1/2 & 1 \\end{pmatrix}$\n",
    "\n",
    "Then we do the second iteration of the newton's method\n",
    "\n",
    "$\\begin{pmatrix} 0 \\\\ 1 \\end{pmatrix} - \\begin{pmatrix} -1/2 & 0 \\\\ 1/2 & 1 \\end{pmatrix} * \\begin{pmatrix} 1 \\\\ 1 \\end{pmatrix} = \\begin{pmatrix} 1/2 \\\\ -1/2 \\end{pmatrix}$"
   ]
  },
  {
   "cell_type": "markdown",
   "metadata": {},
   "source": [
    "d. Now we can conduct Newton's method for 30 iterations. "
   ]
  },
  {
   "cell_type": "code",
   "execution_count": 89,
   "metadata": {},
   "outputs": [],
   "source": [
    "# newton's method\n",
    "def iter_newton(X,function,jacobian,imax = 1e6):\n",
    "    results = []\n",
    "    for i in range(int(imax)):\n",
    "        J = jacobian(X) # calculate jacobian J = df(X)/dY(X) \n",
    "        Y = function(X) # calculate function Y = f(X)\n",
    "        # handle singularity - if error, then add some noise and calculate \n",
    "        try:\n",
    "            dX = np.linalg.solve(J,Y) # solve for increment from JdX = Y \n",
    "        except:\n",
    "            #generate tiny noise \n",
    "            J[0][0] = J[0][0] + random.random()\n",
    "            dX = np.linalg.solve(J,Y) # solve for increment from JdX = Y               \n",
    "        X -= dX # step X by dX \n",
    "        XL = X.tolist()\n",
    "        results.append(XL)\n",
    "    return results\n",
    "\n",
    "# function and jacobian\n",
    "def function(X):\n",
    "    x = X[0]\n",
    "    y = X[1]\n",
    "    return [(x-1)**2+(y-1)**2-1, x+y-1]\n",
    "\n",
    "def jacobian(X):\n",
    "    x = X[0]\n",
    "    y = X[1]\n",
    "    return [[2*x-2,2*y-2],[1,1]]\n"
   ]
  },
  {
   "cell_type": "code",
   "execution_count": 90,
   "metadata": {},
   "outputs": [
    {
     "name": "stdout",
     "output_type": "stream",
     "text": [
      "[[1.1124981310762425, -0.11249813107624251], [1.0103313209082039, -0.010331320908203837], [1.000104575387925, -0.00010457538792483546], [1.000000010933725, -1.0933725162328377e-08], [0.9999999999999999, 7.913419868102082e-17], [1.0, -3.188810378149486e-17], [1.0, -3.188810378149486e-17], [1.0, -3.188810378149486e-17], [1.0, -3.188810378149486e-17], [1.0, -3.188810378149486e-17], [1.0, -3.188810378149486e-17], [1.0, -3.188810378149486e-17], [1.0, -3.188810378149486e-17], [1.0, -3.188810378149486e-17], [1.0, -3.188810378149486e-17], [1.0, -3.188810378149486e-17], [1.0, -3.188810378149486e-17], [1.0, -3.188810378149486e-17], [1.0, -3.188810378149486e-17], [1.0, -3.188810378149486e-17], [1.0, -3.188810378149486e-17], [1.0, -3.188810378149486e-17], [1.0, -3.188810378149486e-17], [1.0, -3.188810378149486e-17], [1.0, -3.188810378149486e-17], [1.0, -3.188810378149486e-17], [1.0, -3.188810378149486e-17], [1.0, -3.188810378149486e-17], [1.0, -3.188810378149486e-17], [1.0, -3.188810378149486e-17]]\n"
     ]
    },
    {
     "data": {
      "image/png": "[encoded data removed]",
      "text/plain": [
       "<Figure size 640x480 with 1 Axes>"
      ]
     },
     "metadata": {},
     "output_type": "display_data"
    }
   ],
   "source": [
    "X_0 = np.array([1/2,1/2],dtype=float)\n",
    "results = iter_newton(X_0,function,jacobian,imax=30)\n",
    "\n",
    "print(results)\n",
    "\n",
    "results_x = [x for x, y in results]\n",
    "results_y = [y for x, y in results]\n",
    "\n",
    "plt.plot(results_x,results_y, 'o')\n",
    "\n",
    "results_df = pd.DataFrame({\"x\":results_x, \"y\":results_y})\n",
    "results_df['iter'] = np.arange(results_df.shape[0])\n"
   ]
  }
 ],
 "metadata": {
  "kernelspec": {
   "display_name": "Python 3.10.4 ('math504')",
   "language": "python",
   "name": "python3"
  },
  "language_info": {
   "codemirror_mode": {
    "name": "ipython",
    "version": 3
   },
   "file_extension": ".py",
   "mimetype": "text/x-python",
   "name": "python",
   "nbconvert_exporter": "python",
   "pygments_lexer": "ipython3",
   "version": "3.10.4"
  },
  "orig_nbformat": 4,
  "vscode": {
   "interpreter": {
    "hash": "42d3138c653de2e945ccf9a541ade644ddf758aeb4c17ba7a5aef518ded5052f"
   }
  }
 },
 "nbformat": 4,
 "nbformat_minor": 2
}
