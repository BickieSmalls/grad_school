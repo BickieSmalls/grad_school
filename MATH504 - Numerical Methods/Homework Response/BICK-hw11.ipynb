{
 "cells": [
  {
   "cell_type": "code",
   "execution_count": null,
   "metadata": {},
   "outputs": [],
   "source": []
  },
  {
   "cell_type": "markdown",
   "metadata": {},
   "source": [
    "# Problem 1\n",
    "\n",
    "Find the quadratic polynomial $p_2(x)$ that interpolates the data\n",
    "\n",
    "| $x$ | 1 | 2 | 4 |\n",
    "|-----|---|---|---|\n",
    "| $y$ | -1 | -1 | 2 |\n",
    "\n",
    "(a) using the Lagrange method;\n",
    "\n",
    "(b) using the method of undetermined coefficients."
   ]
  },
  {
   "cell_type": "markdown",
   "metadata": {},
   "source": [
    "(a) The Lagrange method is to use the lagrange polynomials in the form:\n",
    "\n",
    "$p(x) = \\sum_{i=0}^n y_i l_i(x)$\n",
    "\n",
    "where $l_i(x)$ is the $i$ th lagrange polynomial:\n",
    "\n",
    "$l_i(x) = \\prod_{j=0, j \\neq i}^n \\frac{x-x_j}{x_i-x_j}$"
   ]
  },
  {
   "cell_type": "markdown",
   "metadata": {},
   "source": [
    "We create the lagrange polynomials for each data point:\n",
    "\n",
    "$l_0(x) = \\frac{(x-2)(x-4)}{(1-2)(1-4)} = \\frac{x^2-6x+8}{3}$\n",
    "\n",
    "$l_1(x) = \\frac{(x-1)(x-4)}{(2-1)(2-4)} = \\frac{x^2-5x+4}{-2}$\n",
    "\n",
    "$l_2(x) = \\frac{(x-1)(x-2)}{(4-1)(4-2)} = \\frac{x^2-3x+2}{6}$\n"
   ]
  },
  {
   "cell_type": "markdown",
   "metadata": {},
   "source": [
    "\n",
    "Then we can create the interpolating polynomial:\n",
    "\n",
    "$p_2(x) = -1\\frac{x^2-6x+8}{3} -1\\frac{x^2-5x+4}{-2} +2\\frac{x^2-3x+2}{6} = \\frac{x^2-3x}{2}$"
   ]
  },
  {
   "cell_type": "code",
   "execution_count": null,
   "metadata": {},
   "outputs": [],
   "source": []
  },
  {
   "cell_type": "markdown",
   "metadata": {},
   "source": [
    "(b) Now we use the method of undetermined coefficients. This is given by solving the system of equations:\n",
    "\n",
    "$a_0 + a1x_0 + a_2x_0^2 + ... + a_nx_0^n = y_0$\n",
    "\n",
    "$a_0 + a1x_1 + a_2x_1^2 + ... + a_nx_1^n = y_1$\n",
    "\n",
    "$...$\n",
    "\n",
    "$a_0 + a1x_n + a_2x_n^2 + ... + a_nx_n^n = y_n$\n",
    "\n",
    "where $x_i$ is the $i$ th data point and $y_i$ is the $i$ th data point. We can write this as a matrix equation:\n",
    "\n",
    "$\\begin{pmatrix}\n",
    "1 & x_0 & x_0^2 & ... & x_0^n \\\\\n",
    "1 & x_1 & x_1^2 & ... & x_1^n \\\\\n",
    "... & ... & ... & ... & ... \\\\\n",
    "1 & x_n & x_n^2 & ... & x_n^n\n",
    "\\end{pmatrix}\n",
    "\\begin{pmatrix}\n",
    "a_0 \\\\\n",
    "a_1 \\\\  \n",
    "... \\\\\n",
    "a_n \\end{pmatrix}\n",
    "= \\begin{pmatrix}\n",
    "y_0 \\\\\n",
    "y_1 \\\\\n",
    "... \\\\\n",
    "y_n \\end{pmatrix}$\n",
    "\n",
    "In our problem, we have $n=2$ so we can write this as:\n",
    "\n",
    "$\\begin{pmatrix}\n",
    "1 & 1 & 1 \\\\\n",
    "1 & 2 & 4 \\\\\n",
    "1 & 4 & 16\n",
    "\\end{pmatrix} \n",
    "\\begin{pmatrix}\n",
    "a_0 \\\\\n",
    "a_1 \\\\\n",
    "a_2\n",
    "\\end{pmatrix}\n",
    "= \\begin{pmatrix}\n",
    "-1 \\\\\n",
    "-1 \\\\\n",
    "2\n",
    "\\end{pmatrix}$\n",
    "\n",
    "We can solve this system of equations to find the coefficients:\n",
    "\n",
    "$\\begin{pmatrix}\n",
    "a_0 \\\\\n",
    "a_1 \\\\\n",
    "a_2\n",
    "\\end{pmatrix}\n",
    "= \\begin{pmatrix}\n",
    "1 & 1 & 1 \\\\\n",
    "1 & 2 & 4 \\\\\n",
    "1 & 4 & 16\n",
    "\\end{pmatrix}^{-1}\n",
    "\\begin{pmatrix}\n",
    "-1 \\\\\n",
    "-1 \\\\\n",
    "2\n",
    "\\end{pmatrix}\n",
    "= \\begin{pmatrix}\n",
    "0 \\\\\n",
    "-3/2 \\\\\n",
    "1/2\n",
    "\\end{pmatrix}$"
   ]
  },
  {
   "cell_type": "markdown",
   "metadata": {},
   "source": [
    "This gives us the interpolating polynomial:\n",
    "\n",
    "$p_2(x) = 0 - \\frac{3}{2}x + \\frac{1}{2}x^2$\n",
    "\n",
    "And we see that this is the same result as we achieved in part a using the lagrange method. This is not surprising because th interpolating polynomial is unique."
   ]
  },
  {
   "cell_type": "markdown",
   "metadata": {},
   "source": [
    "# Problem 2\n",
    "\n",
    "Add the data point $(x_3, y_3) = (3, 0)$ to the data in Problem 1. \n",
    "\n",
    "(a). Use Newton's method to find the cubic interpolating polynomial $p_3(x)$ for the resulting data.\n",
    "\n",
    "(b) Find $p_3(x)$ using the Lagrange method."
   ]
  },
  {
   "cell_type": "markdown",
   "metadata": {},
   "source": [
    "Newton's method allows us to add an additional term without recalculating the entire polynomial. We can use the formula:\n",
    "\n",
    "$a_{n+1}=\\frac{y_{n+1}-p_n(x_{n+1})}{(x_{n+1}-x_o)...(x_{n+1}-x_n)}$\n",
    "\n",
    "where $a_n$ is the $n$ th term of the interpolating polynomial."
   ]
  },
  {
   "cell_type": "markdown",
   "metadata": {},
   "source": [
    "We know $y_{n+1} = y_3 = 0$ and $x_{n+1} = x_3 = 3$. We can use the previous polynomial to find $p_n(x_{n+1})$:\n",
    "\n",
    "$p_2(x_3) = 0 - \\frac{3}{2}x_3 + \\frac{1}{2}x_3^2 = 0 - \\frac{3}{2}3 + \\frac{1}{2}9 = 0$"
   ]
  },
  {
   "cell_type": "markdown",
   "metadata": {},
   "source": [
    "We calculate the denominator as:\n",
    "\n",
    "$(x_{n+1}-x_o)...(x_{n+1}-x) = (3-1)(3-2)(3-4) = -2$"
   ]
  },
  {
   "cell_type": "markdown",
   "metadata": {},
   "source": [
    "Putting it together, we get:\n",
    "\n",
    "$a_{n+1} = \\frac{0 - 0}{-2}=0$"
   ]
  },
  {
   "cell_type": "markdown",
   "metadata": {},
   "source": [
    "This means that the cubic interpolating polynomial is the same as the quadratic interpolating polynomial, as the coefficient of $x^3$ is zero."
   ]
  },
  {
   "cell_type": "markdown",
   "metadata": {},
   "source": [
    "To find the $p_3$ using the lagrange method, we must calculate the lagrange polynomials for each data point, as if from the beginning. \n",
    "\n",
    "$l_0(x) = \\frac{(x-2)(x-4)(x-3)}{(1-2)(1-4)(1-3)} = \\frac{-x^3+9x^2-26x+24}{6}$\n",
    "\n",
    "$l_1(x) = \\frac{(x-1)(x-4)(x-3)}{(2-1)(2-4)(2-3)} = \\frac{x^3-8x^2+19x-12}{2}$\n",
    "\n",
    "$l_2(x) = \\frac{(x-1)(x-2)(x-3)}{(4-1)(4-2)(4-3)} = \\frac{x^3-6x^2+11x-6}{6}$\n",
    "\n",
    "$l_3(x) = \\frac{(x-1)(x-2)(x-4)}{(3-1)(3-2)(3-4)} = \\frac{-x^3+7x^2-14x+8}{2}$"
   ]
  },
  {
   "cell_type": "markdown",
   "metadata": {},
   "source": [
    "Then we can create the interpolating polynomial:\n",
    "\n",
    "$p_3(x) = -1\\frac{-x^3+9x^2-26x+24}{6} -1\\frac{x^3-8x^2+19x-12}{2} +2\\frac{x^3-6x^2+11x-6}{6} +0\\frac{-x^3+7x^2-14x+8}{2} = \\frac{x^2-3x}{2}$"
   ]
  },
  {
   "cell_type": "markdown",
   "metadata": {},
   "source": [
    "We see that we get the same results as we did when using the newton's method."
   ]
  },
  {
   "cell_type": "markdown",
   "metadata": {},
   "source": [
    "# Problem 3\n",
    "\n",
    "Find the trigonometric function $T(x) = a_0 + a_1 \\sin x + a_2 \\sin 2x$ that interpolates the following data\n",
    "\n",
    "| $x$ | 0 | $\\pi/2$ | $\\pi/3$ |\n",
    "|-----|---|---------|---------|\n",
    "| $y$ | -1 | 2 | 1 |"
   ]
  },
  {
   "cell_type": "markdown",
   "metadata": {},
   "source": [
    "We can use the given data to use the method of undetermined coefficients and create the system of equations:\n",
    "\n",
    "$a_0 + a_1 \\sin 0 + a_2 \\sin 0 = -1$\n",
    "\n",
    "$a_0 + a_1 \\sin \\frac{\\pi}{2} + a_2 \\sin \\frac{2\\pi}{2} = 2$\n",
    "\n",
    "$a_0 + a_1 \\sin \\frac{\\pi}{3} + a_2 \\sin \\frac{2\\pi}{3} = 1$"
   ]
  },
  {
   "cell_type": "markdown",
   "metadata": {},
   "source": [
    "We can solve this using backward substitution. First we see that $a_0 = -1$. We substitute this value and evaluate the sinusoids in second equation:\n",
    "\n",
    "$-1 + a_1 \\sin{\\pi/2} + a_2 \\sin{\\pi} = 2 \\Rightarrow -1 + a_1 +0 = 2 \\Rightarrow a_1 = 3$ \n"
   ]
  },
  {
   "cell_type": "markdown",
   "metadata": {},
   "source": [
    "Finally, we can solve for $a_2$ in a similar manner, substiuting the values of $a_0$ and $a_1$, and evaluating the equation:\n",
    "\n",
    "$-1 + 3\\sin \\frac{\\pi}{3} + a_2 \\sin \\frac{2\\pi}{3} = 1 \\Rightarrow$\n",
    "\n",
    "$-1 + 3 \\frac{\\sqrt{3}}{2} + a_2 \\frac{\\sqrt{3}}{2} = 1 \\Rightarrow$\n",
    "\n",
    "$2 - 3\\frac{\\sqrt{3}}{2} = a_2 \\frac{\\sqrt{3}}{2} \\Rightarrow$\n",
    "\n",
    "$a_2 = \\frac{4-3\\sqrt{3}}{\\sqrt{3}}$"
   ]
  },
  {
   "cell_type": "markdown",
   "metadata": {},
   "source": [
    "# Problem 4\n",
    "\n",
    "Find the quartic interpolating polynomial $p_4(x)$ for $f(x)=e^{3x}$ using $x_0=-1$, $x_1=-0.5$, $x_2=0$, $x_3=0.5$, and $x_4 = 1$. For $x = 0.08$\n",
    "\n",
    "(a) compute $e_4(x) = f(x) - p_4(x)$;\n",
    "\n",
    "(b) estimate the error $e_4(x)$ using the bound formula given in the lecture."
   ]
  },
  {
   "cell_type": "markdown",
   "metadata": {},
   "source": [
    "First we must find the quartic interpolating polynomial. We create the data points $x_i$ and $y_i$ using the function $f$:\n",
    "\n",
    "| $x$ | -1 | -0.5 | 0 | 0.5 | 1 |\n",
    "|-----|----|-------|---|-----|---|\n",
    "| $y$ | $e^{-3}$ = 0.0497 | $e^{-3/2}$ = 0.223 | 1 | $e^{3/2}$=4.486 | $e^3$=20.085 |"
   ]
  },
  {
   "cell_type": "markdown",
   "metadata": {},
   "source": [
    "Now we can use the lagrange method to find the interpolating polynomial:\n",
    "\n",
    "$p_4(x) = 0.0497*\\frac{(x+0.5)(x-0)(x-0.5)(x-1)}{(-1+0.5)(-1)(-1-0.5)(-1-1)} +\n",
    "0.223*\\frac{(x+1)(x)(x-0.5)(x-1)}{(-0.5+15)(-0.5)(-0.5-0.5)(-0.5-1)} +\n",
    "1*\\frac{(x+1)(x+0.5)(x-0.5)(x-1)}{(0+1)(0+0.5)(0-0.5)(0-1)} +\n",
    "4.4486*\\frac{(x+1)(x+0.5)(x)(x-1)}{(0.5+1)(0+0.5)(0.5)(0.5-1)} + \n",
    "20.085*\\frac{(x+1)(x+0.5)(x-0)(x-0.5)}{(1+1)(1+0.5)(1-0)(0-0.5)}$"
   ]
  }
 ],
 "metadata": {
  "language_info": {
   "name": "python"
  },
  "orig_nbformat": 4
 },
 "nbformat": 4,
 "nbformat_minor": 2
}
