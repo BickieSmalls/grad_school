{
 "cells": [
  {
   "cell_type": "markdown",
   "metadata": {},
   "source": [
    "# Linear Programming in Python\n",
    "This notebook is an introduction to linear programming using Python"
   ]
  },
  {
   "cell_type": "markdown",
   "metadata": {},
   "source": [
    "`$ python -m pip install --upgrade --user ortools`  \n",
    "`$ conda install -c anaconda scipy`"
   ]
  },
  {
   "cell_type": "markdown",
   "metadata": {},
   "source": [
    "* CPLEX\n",
    "* GUROBI\n",
    "* XPRESS"
   ]
  },
  {
   "cell_type": "code",
   "execution_count": 1,
   "metadata": {},
   "outputs": [
    {
     "data": {
      "text/plain": [
       "'1.7.1'"
      ]
     },
     "execution_count": 1,
     "metadata": {},
     "output_type": "execute_result"
    }
   ],
   "source": [
    "import scipy\n",
    "scipy.__version__"
   ]
  },
  {
   "cell_type": "code",
   "execution_count": 2,
   "metadata": {},
   "outputs": [],
   "source": [
    "import numpy as np\n",
    "\n",
    "from ortools.linear_solver import pywraplp\n",
    "from scipy.optimize import linprog"
   ]
  },
  {
   "cell_type": "markdown",
   "metadata": {},
   "source": [
    "### SciPy's `linprog`:\n",
    "$$\n",
    "\\begin{array}{lr@{}l@{}l}\n",
    "\\text{minimize}_x   & c^Tx   & &  &           \\\\\n",
    "\\\\\n",
    "\\text{subject to } & A_{ub}x &  {}\\le & b_{ub} \\\\\n",
    "                    & A_{eq}x & {}= & b_{eq} \\\\\n",
    "\\end{array}\n",
    "$$\n",
    "\n",
    "$$\n",
    "l \\le x \\le u\n",
    "$$"
   ]
  },
  {
   "cell_type": "markdown",
   "metadata": {},
   "source": [
    "```python\n",
    "scipy.optimize.linprog(c, A_ub=None, b_ub=None, A_eq=None, b_eq=None, bounds=None, method='highs', callback=None, options=None, x0=None, integrality=None)\n",
    "```\n",
    "\n",
    "where:\n",
    "* c, b_ub, b_eq are 1-D arrays\n",
    "* A_ub, A_eq are 2-D arrays"
   ]
  },
  {
   "cell_type": "markdown",
   "metadata": {},
   "source": [
    "### Primal:\n",
    "$$\n",
    "\\begin{array}{lr@{}l@{}l@{}l}\n",
    "\\text{maximize }   &3 x_1   & + 2 x_2 &    &           \\\\\n",
    "\\\\\n",
    "\\text{subject to } & x_1 & + x_2 &  {}\\le & 10 \\\\\n",
    "                    & 3x_1 & + x_2 &  {}\\le & 24 \\\\\n",
    "                   & x_1 & + 2x_2 &  {}\\le & 16 \\\\\n",
    "\\end{array}\n",
    "$$\n",
    "\n",
    "$$\n",
    "x_1,x_2 \\ge 0\n",
    "$$"
   ]
  },
  {
   "cell_type": "code",
   "execution_count": 3,
   "metadata": {
    "scrolled": true
   },
   "outputs": [
    {
     "data": {
      "text/plain": [
       "           con: array([], dtype=float64)\n",
       " crossover_nit: 0\n",
       "         eqlin:  marginals: array([], dtype=float64)\n",
       "  residual: array([], dtype=float64)\n",
       "           fun: -27.0\n",
       "       ineqlin:  marginals: array([-1.5, -0.5, -0. ])\n",
       "  residual: array([0., 0., 3.])\n",
       "         lower:  marginals: <MemoryView of 'ndarray' at 0x25f2e0bd6c0>\n",
       "  residual: array([7., 3.])\n",
       "       message: 'Optimization terminated successfully.'\n",
       "           nit: 3\n",
       "         slack: array([0., 0., 3.])\n",
       "        status: 0\n",
       "       success: True\n",
       "         upper:  marginals: <MemoryView of 'ndarray' at 0x25f2e0bd520>\n",
       "  residual: array([inf, inf])\n",
       "             x: array([7., 3.])"
      ]
     },
     "execution_count": 3,
     "metadata": {},
     "output_type": "execute_result"
    }
   ],
   "source": [
    "obj = [-3, -2]\n",
    "\n",
    "A_ub = [[1, 1],\n",
    "        [3, 1],\n",
    "        [1, 2]]\n",
    "\n",
    "b_ub = [10,\n",
    "        24,\n",
    "        16]\n",
    "\n",
    "dv_bounds = [(0, None) for i, _ in enumerate(obj)]\n",
    "\n",
    "opt = linprog(c=obj, A_ub=A_ub, b_ub=b_ub, bounds=dv_bounds, method=\"highs\")\n",
    "opt"
   ]
  },
  {
   "cell_type": "code",
   "execution_count": 4,
   "metadata": {
    "scrolled": false
   },
   "outputs": [
    {
     "data": {
      "text/plain": [
       "           con: array([0., 0., 0.])\n",
       " crossover_nit: 0\n",
       "         eqlin:  marginals: array([-1.5, -0.5, -0. ])\n",
       "  residual: array([0., 0., 0.])\n",
       "           fun: -27.0\n",
       "       ineqlin:  marginals: array([], dtype=float64)\n",
       "  residual: array([], dtype=float64)\n",
       "         lower:  marginals: <MemoryView of 'ndarray' at 0x25f2e0bda00>\n",
       "  residual: array([7., 3., 0., 0., 3.])\n",
       "       message: 'Optimization terminated successfully.'\n",
       "           nit: 3\n",
       "         slack: array([], dtype=float64)\n",
       "        status: 0\n",
       "       success: True\n",
       "         upper:  marginals: <MemoryView of 'ndarray' at 0x25f2e0bd860>\n",
       "  residual: array([inf, inf, inf, inf, inf])\n",
       "             x: array([7., 3., 0., 0., 3.])"
      ]
     },
     "execution_count": 4,
     "metadata": {},
     "output_type": "execute_result"
    }
   ],
   "source": [
    "obj = [-3, -2, 0, 0, 0]\n",
    "\n",
    "A_eq = [[1, 1, 1, 0, 0],\n",
    "        [3, 1, 0, 1, 0],\n",
    "        [1, 2, 0, 0, 1]]\n",
    "\n",
    "b_eq = [10,\n",
    "        24,\n",
    "        16]\n",
    "\n",
    "dv_bounds = [(0, None) for i, _ in enumerate(obj)]\n",
    "\n",
    "opt = linprog(c=obj, A_eq=A_eq, b_eq=b_eq, bounds=dv_bounds, method=\"highs\")\n",
    "opt"
   ]
  },
  {
   "cell_type": "code",
   "execution_count": 5,
   "metadata": {
    "scrolled": false
   },
   "outputs": [
    {
     "data": {
      "text/plain": [
       "           con: array([], dtype=float64)\n",
       " crossover_nit: 0\n",
       "         eqlin:  marginals: array([], dtype=float64)\n",
       "  residual: array([], dtype=float64)\n",
       "           fun: 27.0\n",
       "       ineqlin:  marginals: array([-7., -3., -0., -0., -3.])\n",
       "  residual: array([0. , 0. , 1.5, 0.5, 0. ])\n",
       "         lower:  marginals: <MemoryView of 'ndarray' at 0x25f2e0bdd40>\n",
       "  residual: array([inf, inf, inf])\n",
       "       message: 'Optimization terminated successfully.'\n",
       "           nit: 2\n",
       "         slack: array([0. , 0. , 1.5, 0.5, 0. ])\n",
       "        status: 0\n",
       "       success: True\n",
       "         upper:  marginals: <MemoryView of 'ndarray' at 0x25f2e0bdba0>\n",
       "  residual: array([inf, inf, inf])\n",
       "             x: array([ 1.5,  0.5, -0. ])"
      ]
     },
     "execution_count": 5,
     "metadata": {},
     "output_type": "execute_result"
    }
   ],
   "source": [
    "obj = [-3, -2, 0, 0, 0]\n",
    "\n",
    "A_eq = [[1, 1, 1, 0, 0],\n",
    "        [3, 1, 0, 1, 0],\n",
    "        [1, 2, 0, 0, 1]]\n",
    "\n",
    "A_TN = [[-row[i] for row in A_eq] for i, _ in enumerate(A_eq[0])]\n",
    "\n",
    "b_eq = [10,\n",
    "        24,\n",
    "        16]\n",
    "\n",
    "dv_bounds = [(0, None) for i, _ in enumerate(obj)]\n",
    "\n",
    "opt = linprog(c=b_eq, A_ub=A_TN, b_ub=obj, bounds=(None, None), method=\"highs\")\n",
    "opt"
   ]
  },
  {
   "cell_type": "code",
   "execution_count": 6,
   "metadata": {
    "scrolled": false
   },
   "outputs": [
    {
     "name": "stdout",
     "output_type": "stream",
     "text": [
      " complete: False\n",
      "      con: array([], dtype=float64)\n",
      "      fun: 0.0\n",
      "  message: ''\n",
      "      nit: 0\n",
      "    phase: 1\n",
      "    slack: array([10., 24., 16.])\n",
      "   status: 0\n",
      "  success: False\n",
      "        x: array([0., 0.])\n",
      "\n",
      " complete: False\n",
      "      con: array([], dtype=float64)\n",
      "      fun: 0.0\n",
      "  message: ''\n",
      "      nit: 0\n",
      "    phase: 2\n",
      "    slack: array([10., 24., 16.])\n",
      "   status: 0\n",
      "  success: False\n",
      "        x: array([0., 0.])\n",
      "\n",
      " complete: False\n",
      "      con: array([], dtype=float64)\n",
      "      fun: -160.0\n",
      "  message: ''\n",
      "      nit: 1\n",
      "    phase: 2\n",
      "    slack: array([ 2., 16.,  0.])\n",
      "   status: 0\n",
      "  success: False\n",
      "        x: array([0., 8.])\n",
      "\n"
     ]
    },
    {
     "data": {
      "text/plain": [
       "     con: array([], dtype=float64)\n",
       "     fun: -160.0\n",
       " message: 'Optimization terminated successfully.'\n",
       "     nit: 1\n",
       "   slack: array([ 2., 16.,  0.])\n",
       "  status: 0\n",
       " success: True\n",
       "       x: array([0., 8.])"
      ]
     },
     "execution_count": 6,
     "metadata": {},
     "output_type": "execute_result"
    }
   ],
   "source": [
    "obj = [-3, -20]\n",
    "\n",
    "\n",
    "A_ub = [[1, 1],\n",
    "        [3, 1],\n",
    "        [1, 2]]\n",
    "\n",
    "b_ub = [10,\n",
    "        24,\n",
    "        16]\n",
    "dv_bounds = [(0, None) for i, _ in enumerate(obj)]\n",
    "opt = linprog(c=obj, A_ub=A_ub, b_ub=b_ub, bounds=dv_bounds, method=\"revised simplex\", callback = lambda x: print(f'{x}\\n'))\n",
    "opt"
   ]
  },
  {
   "cell_type": "markdown",
   "metadata": {},
   "source": [
    "`simplex_dual_edge_weight_strategy`: `str` (default: `None`)  \n",
    "\n",
    "*Strategy for simplex dual edge weights. The default, `None`, automatically selects one of the following.*\n",
    "\n",
    "* *'dantzig'* uses Dantzig’s original strategy of choosing the most negative reduced cost.\n",
    "\n",
    "* *'devex'* uses the strategy described in [\\*].\n",
    "\n",
    "* steepest uses the exact steepest edge strategy as described in [\\**].\n",
    "\n",
    "* *'steepest-devex'* begins with the exact steepest edge strategy until the computation is too costly or inexact and then switches to the devex method.\n",
    "\n",
    "Curently, `None` always selects *'steepest-devex'*, but this may change as new options become available.\n",
    "\n",
    "\n",
    "\\* Harris, Paula MJ. “Pivot selection methods of the Devex LP code.” Mathematical programming 5.1 (1973): 1-28.\n",
    "\n",
    "\\** Goldfarb, Donald, and John Ker Reid. “A practicable steepest-edge simplex algorithm.” Mathematical Programming 12.1 (1977): 361-371."
   ]
  },
  {
   "cell_type": "code",
   "execution_count": 7,
   "metadata": {},
   "outputs": [
    {
     "data": {
      "text/plain": [
       "     con: array([], dtype=float64)\n",
       "     fun: -24.0\n",
       " message: 'Optimization terminated successfully.'\n",
       "     nit: 1\n",
       "   slack: array([2., 0., 8.])\n",
       "  status: 0\n",
       " success: True\n",
       "       x: array([8., 0.])"
      ]
     },
     "execution_count": 7,
     "metadata": {},
     "output_type": "execute_result"
    }
   ],
   "source": [
    "obj = [-3, -2]\n",
    "\n",
    "A_lb = [[1, 1],\n",
    "        [3, 2],\n",
    "        [1, 2]]\n",
    "\n",
    "b_lb = [10,\n",
    "        24,\n",
    "        16]\n",
    "\n",
    "dv_bounds = [(0, float('inf')) for i, _ in enumerate(obj)]\n",
    "\n",
    "opt = linprog(c=obj, A_ub=A_lb, b_ub=b_lb, bounds=dv_bounds, method=\"revised simplex\")\n",
    "opt"
   ]
  },
  {
   "cell_type": "markdown",
   "metadata": {},
   "source": [
    "# OR-Tools"
   ]
  },
  {
   "cell_type": "markdown",
   "metadata": {},
   "source": [
    "## Glop\n",
    "Glop is Google's in-house implementation of the primal and dual simplex methods. Glop is open source and trusted for Google's production workloads."
   ]
  },
  {
   "cell_type": "code",
   "execution_count": 8,
   "metadata": {},
   "outputs": [
    {
     "name": "stdout",
     "output_type": "stream",
     "text": [
      "Number of constraints = 3\n",
      "Solution:\n",
      "Objective value = 27.0\n",
      "x_1 = 6.999999999999998\n",
      "x_2 = 3.0000000000000027\n",
      "\n",
      "Advanced usage:\n",
      "Problem solved in 3.000000 milliseconds\n",
      "Problem solved in 2 iterations\n"
     ]
    }
   ],
   "source": [
    "\"\"\"Linear programming sample.\"\"\"\n",
    "# Instantiate a Glop solver, naming it LinearExample.\n",
    "solver = pywraplp.Solver.CreateSolver('GLOP')\n",
    "\n",
    "# Create the two variables and let them take on any non-negative value.\n",
    "x_1 = solver.NumVar(0, solver.infinity(), 'x_1')\n",
    "x_2 = solver.NumVar(0, solver.infinity(), 'x_2')\n",
    "\n",
    "# Constraints:\n",
    "solver.Add(x_1 + x_2 <= 10)\n",
    "solver.Add(3 * x_1 + x_2 <= 24)\n",
    "solver.Add(x_1 + 2 * x_2 <= 16)\n",
    "\n",
    "print('Number of constraints =', solver.NumConstraints())\n",
    "\n",
    "# Objective function:\n",
    "solver.Maximize(3 * x_1 + 2 * x_2)\n",
    "\n",
    "# Solve the system.\n",
    "status = solver.Solve()\n",
    "\n",
    "if status == pywraplp.Solver.OPTIMAL:\n",
    "    print('Solution:')\n",
    "    print('Objective value =', solver.Objective().Value())\n",
    "    print('x_1 =', x_1.solution_value())\n",
    "    print('x_2 =', x_2.solution_value())\n",
    "else:\n",
    "    print('The problem does not have an optimal solution.')\n",
    "\n",
    "print('\\nAdvanced usage:')\n",
    "print('Problem solved in %f milliseconds' % solver.wall_time())\n",
    "print('Problem solved in %d iterations' % solver.iterations())"
   ]
  },
  {
   "cell_type": "code",
   "execution_count": 9,
   "metadata": {},
   "outputs": [
    {
     "name": "stdout",
     "output_type": "stream",
     "text": [
      "Number of constraints = 3\n",
      "Solution:\n",
      "Objective value = 26.99999194985404\n",
      "x_1 = 7.000013321006484\n",
      "x_2 = 2.9999759934172943\n",
      "\n",
      "Advanced usage:\n",
      "Problem solved in 3.000000 milliseconds\n",
      "Problem solved in 256 iterations\n"
     ]
    }
   ],
   "source": [
    "\"\"\"Linear programming sample.\"\"\"\n",
    "# Instantiate a PDLP solver, naming it LinearExample.\n",
    "solver = pywraplp.Solver.CreateSolver('PDLP')\n",
    "\n",
    "# Create the two variables and let them take on any non-negative value.\n",
    "x_1 = solver.NumVar(0, solver.infinity(), 'x_1')\n",
    "x_2 = solver.NumVar(0, solver.infinity(), 'x_2')\n",
    "\n",
    "# Constraints:\n",
    "solver.Add(x_1 + x_2 <= 10)\n",
    "solver.Add(3 * x_1 + x_2 <= 24)\n",
    "solver.Add(x_1 + 2 * x_2 <= 16)\n",
    "\n",
    "print('Number of constraints =', solver.NumConstraints())\n",
    "\n",
    "# Objective function:\n",
    "solver.Maximize(3 * x_1 + 2 * x_2)\n",
    "\n",
    "# Solve the system.\n",
    "status = solver.Solve()\n",
    "\n",
    "if status == pywraplp.Solver.OPTIMAL:\n",
    "    print('Solution:')\n",
    "    print('Objective value =', solver.Objective().Value())\n",
    "    print('x_1 =', x_1.solution_value())\n",
    "    print('x_2 =', x_2.solution_value())\n",
    "else:\n",
    "    print('The problem does not have an optimal solution.')\n",
    "\n",
    "print('\\nAdvanced usage:')\n",
    "print('Problem solved in %f milliseconds' % solver.wall_time())\n",
    "print('Problem solved in %d iterations' % solver.iterations())"
   ]
  },
  {
   "cell_type": "markdown",
   "metadata": {},
   "source": [
    "## PDLP \n",
    "Tune the convergence tolerances to your application. Why: PDLP is designed for the largest problems, where simplex and barrier methods hit memory limits or are too slow. PDLP performs best when an approximate but quick solution is preferred to an exact but slow solution."
   ]
  },
  {
   "cell_type": "code",
   "execution_count": 10,
   "metadata": {},
   "outputs": [
    {
     "name": "stdout",
     "output_type": "stream",
     "text": [
      "Number of constraints = 3\n",
      "Solution:\n",
      "Objective value = 26.99999194985404\n",
      "x_1 = 7.000013321006484\n",
      "x_2 = 2.9999759934172943\n",
      "\n",
      "Advanced usage:\n",
      "Problem solved in 1.000000 milliseconds\n",
      "Problem solved in 256 iterations\n"
     ]
    }
   ],
   "source": [
    "\"\"\"Linear programming sample.\"\"\"\n",
    "# Instantiate a PDLP solver, naming it LinearExample.\n",
    "solver = pywraplp.Solver.CreateSolver('PDLP')\n",
    "\n",
    "# Create the two variables and let them take on any non-negative value.\n",
    "x_1 = solver.NumVar(0, solver.infinity(), 'x_1')\n",
    "x_2 = solver.NumVar(0, solver.infinity(), 'x_2')\n",
    "\n",
    "# Constraints:\n",
    "solver.Add(x_1 + x_2 <= 10)\n",
    "solver.Add(3 * x_1 + x_2 <= 24)\n",
    "solver.Add(x_1 + 2 * x_2 <= 16)\n",
    "\n",
    "print('Number of constraints =', solver.NumConstraints())\n",
    "\n",
    "# Objective function:\n",
    "solver.Maximize(3 * x_1 + 2 * x_2)\n",
    "\n",
    "# Solve the system.\n",
    "status = solver.Solve()\n",
    "\n",
    "if status == pywraplp.Solver.OPTIMAL:\n",
    "    print('Solution:')\n",
    "    print('Objective value =', solver.Objective().Value())\n",
    "    print('x_1 =', x_1.solution_value())\n",
    "    print('x_2 =', x_2.solution_value())\n",
    "else:\n",
    "    print('The problem does not have an optimal solution.')\n",
    "\n",
    "print('\\nAdvanced usage:')\n",
    "print('Problem solved in %f milliseconds' % solver.wall_time())\n",
    "print('Problem solved in %d iterations' % solver.iterations())"
   ]
  },
  {
   "cell_type": "code",
   "execution_count": 11,
   "metadata": {},
   "outputs": [],
   "source": [
    "def dv_sen(dv):\n",
    "    return [(name, getattr(dv, name)()) for name in ['Lb', 'ReducedCost', 'SolutionValue', 'Ub']]"
   ]
  },
  {
   "cell_type": "code",
   "execution_count": 12,
   "metadata": {},
   "outputs": [
    {
     "data": {
      "text/plain": [
       "[('Lb', 0.0),\n",
       " ('ReducedCost', -1.0019173299950149e-06),\n",
       " ('SolutionValue', 7.000013321006484),\n",
       " ('Ub', inf)]"
      ]
     },
     "execution_count": 12,
     "metadata": {},
     "output_type": "execute_result"
    }
   ],
   "source": [
    "dv_sen(x_1)"
   ]
  },
  {
   "cell_type": "code",
   "execution_count": 13,
   "metadata": {},
   "outputs": [],
   "source": [
    "def constraint_sensitivity(constraint): \n",
    "    return [(name, getattr(constraint, name)()) for name in ['DualValue', 'Lb', 'Ub',]]"
   ]
  },
  {
   "cell_type": "code",
   "execution_count": 14,
   "metadata": {},
   "outputs": [
    {
     "name": "stdout",
     "output_type": "stream",
     "text": [
      "[('DualValue', 1.4999976423312988), ('Lb', -inf), ('Ub', 10.0)]\n",
      "[('DualValue', 0.5000011198620103), ('Lb', -inf), ('Ub', 24.0)]\n",
      "[('DualValue', -0.0), ('Lb', -inf), ('Ub', 16.0)]\n"
     ]
    }
   ],
   "source": [
    "for c in solver.constraints():\n",
    "    print(constraint_sensitivity(c))"
   ]
  },
  {
   "cell_type": "code",
   "execution_count": 15,
   "metadata": {},
   "outputs": [],
   "source": [
    "temp = solver.Objective()"
   ]
  },
  {
   "cell_type": "code",
   "execution_count": 16,
   "metadata": {},
   "outputs": [],
   "source": [
    "def optimization_sensitivity(opt): \n",
    "    return [(name, getattr(opt, name)()) for name in ['BestBound','Offset','Value',]]"
   ]
  },
  {
   "cell_type": "code",
   "execution_count": 17,
   "metadata": {},
   "outputs": [
    {
     "data": {
      "text/plain": [
       "[('BestBound', -inf), ('Offset', 0.0), ('Value', 26.99999194985404)]"
      ]
     },
     "execution_count": 17,
     "metadata": {},
     "output_type": "execute_result"
    }
   ],
   "source": [
    "optimization_sensitivity(temp)"
   ]
  },
  {
   "cell_type": "markdown",
   "metadata": {
    "vscode": {
     "languageId": "plaintext"
    }
   },
   "source": [
    "# The Stigler diet problem.\n",
    "*Code adapted from:* https://developers.google.com/optimization/lp/stigler_diet  \n",
    "*A description of the problem can be found here:* https://en.wikipedia.org/wiki/Stigler_diet"
   ]
  },
  {
   "cell_type": "code",
   "execution_count": 18,
   "metadata": {},
   "outputs": [],
   "source": [
    "# Nutrient minimums.\n",
    "nutrients = [\n",
    "    ['Calories (kcal)', 3],\n",
    "    ['Protein (g)', 70],\n",
    "    ['Calcium (g)', 0.8],\n",
    "    ['Iron (mg)', 12],\n",
    "    ['Vitamin A (KIU)', 5],\n",
    "    ['Vitamin B1 (mg)', 1.8],\n",
    "    ['Vitamin B2 (mg)', 2.7],\n",
    "    ['Niacin (mg)', 18],\n",
    "    ['Vitamin C (mg)', 75],\n",
    "]"
   ]
  },
  {
   "cell_type": "code",
   "execution_count": 19,
   "metadata": {},
   "outputs": [],
   "source": [
    "# Commodity, Unit, 1939 price (cents), Calories (kcal), Protein (g),\n",
    "# Calcium (g), Iron (mg), Vitamin A (KIU), Vitamin B1 (mg), Vitamin B2 (mg),\n",
    "# Niacin (mg), Vitamin C (mg)\n",
    "food_data = [\n",
    "    ['Wheat Flour (Enriched)', '10 lb.', 36, 44.7, 1411, 2, 365, 0, 55.4, 33.3, 441, 0],\n",
    "    ['Macaroni', '1 lb.', 14.1, 11.6, 418, 0.7, 54, 0, 3.2, 1.9, 68, 0],\n",
    "    ['Wheat Cereal (Enriched)', '28 oz.', 24.2, 11.8, 377, 14.4, 175, 0, 14.4, 8.8, 114, 0],\n",
    "    ['Corn Flakes', '8 oz.', 7.1, 11.4, 252, 0.1, 56, 0, 13.5, 2.3, 68, 0],\n",
    "    ['Corn Meal', '1 lb.', 4.6, 36.0, 897, 1.7, 99, 30.9, 17.4, 7.9, 106, 0],\n",
    "    ['Hominy Grits', '24 oz.', 8.5, 28.6, 680, 0.8, 80, 0, 10.6, 1.6, 110, 0],\n",
    "    ['Rice', '1 lb.', 7.5, 21.2, 460, 0.6, 41, 0, 2, 4.8, 60, 0],\n",
    "    ['Rolled Oats', '1 lb.', 7.1, 25.3, 907, 5.1, 341, 0, 37.1, 8.9, 64, 0],\n",
    "    ['White Bread (Enriched)', '1 lb.', 7.9, 15.0, 488, 2.5, 115, 0, 13.8, 8.5, 126, 0],\n",
    "    ['Whole Wheat Bread', '1 lb.', 9.1, 12.2, 484, 2.7, 125, 0, 13.9, 6.4, 160, 0],\n",
    "    ['Rye Bread', '1 lb.', 9.1, 12.4, 439, 1.1, 82, 0, 9.9, 3, 66, 0],\n",
    "    ['Pound Cake', '1 lb.', 24.8, 8.0, 130, 0.4, 31, 18.9, 2.8, 3, 17, 0],\n",
    "    ['Soda Crackers', '1 lb.', 15.1, 12.5, 288, 0.5, 50, 0, 0, 0, 0, 0],\n",
    "    ['Milk', '1 qt.', 11, 6.1, 310, 10.5, 18, 16.8, 4, 16, 7, 177],\n",
    "    ['Evaporated Milk (can)', '14.5 oz.', 6.7, 8.4, 422, 15.1, 9, 26, 3, 23.5, 11, 60],\n",
    "    ['Butter', '1 lb.', 30.8, 10.8, 9, 0.2, 3, 44.2, 0, 0.2, 2, 0],\n",
    "    ['Oleomargarine', '1 lb.', 16.1, 20.6, 17, 0.6, 6, 55.8, 0.2, 0, 0, 0],\n",
    "    ['Eggs', '1 doz.', 32.6, 2.9, 238, 1.0, 52, 18.6, 2.8, 6.5, 1, 0],\n",
    "    ['Cheese (Cheddar)', '1 lb.', 24.2, 7.4, 448, 16.4, 19, 28.1, 0.8, 10.3, 4, 0],\n",
    "    ['Cream', '1/2 pt.', 14.1, 3.5, 49, 1.7, 3, 16.9, 0.6, 2.5, 0, 17],\n",
    "    ['Peanut Butter', '1 lb.', 17.9, 15.7, 661, 1.0, 48, 0, 9.6, 8.1, 471, 0],\n",
    "    ['Mayonnaise', '1/2 pt.', 16.7, 8.6, 18, 0.2, 8, 2.7, 0.4, 0.5, 0, 0],\n",
    "    ['Crisco', '1 lb.', 20.3, 20.1, 0, 0, 0, 0, 0, 0, 0, 0],\n",
    "    ['Lard', '1 lb.', 9.8, 41.7, 0, 0, 0, 0.2, 0, 0.5, 5, 0],\n",
    "    ['Sirloin Steak', '1 lb.', 39.6, 2.9, 166, 0.1, 34, 0.2, 2.1, 2.9, 69, 0],\n",
    "    ['Round Steak', '1 lb.', 36.4, 2.2, 214, 0.1, 32, 0.4, 2.5, 2.4, 87, 0],\n",
    "    ['Rib Roast', '1 lb.', 29.2, 3.4, 213, 0.1, 33, 0, 0, 2, 0, 0],\n",
    "    ['Chuck Roast', '1 lb.', 22.6, 3.6, 309, 0.2, 46, 0.4, 1, 4, 120, 0],\n",
    "    ['Plate', '1 lb.', 14.6, 8.5, 404, 0.2, 62, 0, 0.9, 0, 0, 0],\n",
    "    ['Liver (Beef)', '1 lb.', 26.8, 2.2, 333, 0.2, 139, 169.2, 6.4, 50.8, 316, 525],\n",
    "    ['Leg of Lamb', '1 lb.', 27.6, 3.1, 245, 0.1, 20, 0, 2.8, 3.9, 86, 0],\n",
    "    ['Lamb Chops (Rib)', '1 lb.', 36.6, 3.3, 140, 0.1, 15, 0, 1.7, 2.7, 54, 0],\n",
    "    ['Pork Chops', '1 lb.', 30.7, 3.5, 196, 0.2, 30, 0, 17.4, 2.7, 60, 0],\n",
    "    ['Pork Loin Roast', '1 lb.', 24.2, 4.4, 249, 0.3, 37, 0, 18.2, 3.6, 79, 0],\n",
    "    ['Bacon', '1 lb.', 25.6, 10.4, 152, 0.2, 23, 0, 1.8, 1.8, 71, 0],\n",
    "    ['Ham, smoked', '1 lb.', 27.4, 6.7, 212, 0.2, 31, 0, 9.9, 3.3, 50, 0],\n",
    "    ['Salt Pork', '1 lb.', 16, 18.8, 164, 0.1, 26, 0, 1.4, 1.8, 0, 0],\n",
    "    ['Roasting Chicken', '1 lb.', 30.3, 1.8, 184, 0.1, 30, 0.1, 0.9, 1.8, 68, 46],\n",
    "    ['Veal Cutlets', '1 lb.', 42.3, 1.7, 156, 0.1, 24, 0, 1.4, 2.4, 57, 0],\n",
    "    ['Salmon, Pink (can)', '16 oz.', 13, 5.8, 705, 6.8, 45, 3.5, 1, 4.9, 209, 0],\n",
    "    ['Apples', '1 lb.', 4.4, 5.8, 27, 0.5, 36, 7.3, 3.6, 2.7, 5, 544],\n",
    "    ['Bananas', '1 lb.', 6.1, 4.9, 60, 0.4, 30, 17.4, 2.5, 3.5, 28, 498],\n",
    "    ['Lemons', '1 doz.', 26, 1.0, 21, 0.5, 14, 0, 0.5, 0, 4, 952],\n",
    "    ['Oranges', '1 doz.', 30.9, 2.2, 40, 1.1, 18, 11.1, 3.6, 1.3, 10, 1998],\n",
    "    ['Green Beans', '1 lb.', 7.1, 2.4, 138, 3.7, 80, 69, 4.3, 5.8, 37, 862],\n",
    "    ['Cabbage', '1 lb.', 3.7, 2.6, 125, 4.0, 36, 7.2, 9, 4.5, 26, 5369],\n",
    "    ['Carrots', '1 bunch', 4.7, 2.7, 73, 2.8, 43, 188.5, 6.1, 4.3, 89, 608],\n",
    "    ['Celery', '1 stalk', 7.3, 0.9, 51, 3.0, 23, 0.9, 1.4, 1.4, 9, 313],\n",
    "    ['Lettuce', '1 head', 8.2, 0.4, 27, 1.1, 22, 112.4, 1.8, 3.4, 11, 449],\n",
    "    ['Onions', '1 lb.', 3.6, 5.8, 166, 3.8, 59, 16.6, 4.7, 5.9, 21, 1184],\n",
    "    ['Potatoes', '15 lb.', 34, 14.3, 336, 1.8, 118, 6.7, 29.4, 7.1, 198, 2522],\n",
    "    ['Spinach', '1 lb.', 8.1, 1.1, 106, 0, 138, 918.4, 5.7, 13.8, 33, 2755],\n",
    "    ['Sweet Potatoes', '1 lb.', 5.1, 9.6, 138, 2.7, 54, 290.7, 8.4, 5.4, 83, 1912],\n",
    "    ['Peaches (can)', 'No. 2 1/2', 16.8, 3.7, 20, 0.4, 10, 21.5, 0.5, 1, 31, 196],\n",
    "    ['Pears (can)', 'No. 2 1/2', 20.4, 3.0, 8, 0.3, 8, 0.8, 0.8, 0.8, 5, 81],\n",
    "    ['Pineapple (can)', 'No. 2 1/2', 21.3, 2.4, 16, 0.4, 8, 2, 2.8, 0.8, 7, 399],\n",
    "    ['Asparagus (can)', 'No. 2', 27.7, 0.4, 33, 0.3, 12, 16.3, 1.4, 2.1, 17, 272],\n",
    "    ['Green Beans (can)', 'No. 2', 10, 1.0, 54, 2, 65, 53.9, 1.6, 4.3, 32, 431],\n",
    "    ['Pork and Beans (can)', '16 oz.', 7.1, 7.5, 364, 4, 134, 3.5, 8.3, 7.7, 56, 0],\n",
    "    ['Corn (can)', 'No. 2', 10.4, 5.2, 136, 0.2, 16, 12, 1.6, 2.7, 42, 218],\n",
    "    ['Peas (can)', 'No. 2', 13.8, 2.3, 136, 0.6, 45, 34.9, 4.9, 2.5, 37, 370],\n",
    "    ['Tomatoes (can)', 'No. 2', 8.6, 1.3, 63, 0.7, 38, 53.2, 3.4, 2.5, 36, 1253],\n",
    "    ['Tomato Soup (can)', '10 1/2 oz.', 7.6, 1.6, 71, 0.6, 43, 57.9, 3.5, 2.4, 67, 862],\n",
    "    ['Peaches, Dried', '1 lb.', 15.7, 8.5, 87, 1.7, 173, 86.8, 1.2, 4.3, 55, 57],\n",
    "    ['Prunes, Dried', '1 lb.', 9, 12.8, 99, 2.5, 154, 85.7, 3.9, 4.3, 65, 257],\n",
    "    ['Raisins, Dried', '15 oz.', 9.4, 13.5, 104, 2.5, 136, 4.5, 6.3, 1.4, 24, 136 ],\n",
    "    ['Peas, Dried', '1 lb.', 7.9, 20.0, 1367, 4.2, 345, 2.9, 28.7, 18.4, 162, 0],\n",
    "    ['Lima Beans, Dried', '1 lb.', 8.9, 17.4, 1055, 3.7, 459, 5.1, 26.9, 38.2, 93, 0],\n",
    "    ['Navy Beans, Dried', '1 lb.', 5.9, 26.9, 1691, 11.4, 792, 0, 38.4, 24.6, 217, 0],\n",
    "    ['Coffee', '1 lb.', 22.4, 0, 0, 0, 0, 0, 4, 5.1, 50, 0],\n",
    "    ['Tea', '1/4 lb.', 17.4, 0, 0, 0, 0, 0, 0, 2.3, 42, 0],\n",
    "    ['Cocoa', '8 oz.', 8.6, 8.7, 237, 3, 72, 0, 2, 11.9, 40, 0],\n",
    "    ['Chocolate', '8 oz.', 16.2, 8.0, 77, 1.3, 39, 0, 0.9, 3.4, 14, 0],\n",
    "    ['Sugar', '10 lb.', 51.7, 34.9, 0, 0, 0, 0, 0, 0, 0, 0],\n",
    "    ['Corn Syrup', '24 oz.', 13.7, 14.7, 0, 0.5, 74, 0, 0, 0, 5, 0],\n",
    "    ['Molasses', '18 oz.', 13.6, 9.0, 0, 10.3, 244, 0, 1.9, 7.5, 146, 0],\n",
    "    ['Strawberry Preserves', '1 lb.', 20.5, 6.4, 11, 0.4, 7, 0.2, 0.2, 0.4, 3, 0],\n",
    "]"
   ]
  },
  {
   "cell_type": "markdown",
   "metadata": {},
   "source": [
    "`pywraplp` is a Python wrapper for the C++ solver. That is to say it is a function, in Python, whose primary purpose is to call another function, the C++ solver, while doing little or no computation itself. i.e. it accepts data in the appropriate form and passes it to a faster C++ implementation to calculate the solutions. `'GLOP'` specifies the OR-Tools linear solver.  \n",
    "\n",
    "The solver object is going to accept all of decision variables and constraints prior to checking for a solution."
   ]
  },
  {
   "cell_type": "code",
   "execution_count": 20,
   "metadata": {},
   "outputs": [],
   "source": [
    "\n",
    "# Instantiate a Glop solver and naming it.\n",
    "solver = pywraplp.Solver.CreateSolver('GLOP')\n"
   ]
  },
  {
   "cell_type": "markdown",
   "metadata": {},
   "source": [
    "Next, we declare our decision variables, which in this case corresponds to the amount of each food to consume.  \n",
    "\n",
    "Each decision *continuous* decision variable is created using NumVar and has a range of acceptable values:  \n",
    "`solver.NumVar(min_value:Numeric, max_value:Numeric, variable_name(optional):String)`  \n",
    "\n",
    "i.e. $$min_i \\le x_i \\le MAX_i$$"
   ]
  },
  {
   "cell_type": "code",
   "execution_count": 21,
   "metadata": {},
   "outputs": [
    {
     "name": "stdout",
     "output_type": "stream",
     "text": [
      "Number of variables = 77\n"
     ]
    }
   ],
   "source": [
    "\n",
    "# Declare an array to hold our variables.\n",
    "foods = [solver.NumVar(0.0, solver.infinity(), food[0]) for food in food_data]\n",
    "\n",
    "print('Number of variables =', solver.NumVariables())"
   ]
  },
  {
   "cell_type": "markdown",
   "metadata": {},
   "source": [
    "Next we declare constraints.\n",
    "\n",
    "Constraints are initially created with a lower and upper bound.  \n",
    "`solver.Constraint(min_constraint:Numeric, max_constraint:Numeric, constraint_name(optional):String)`\n",
    "  \n",
    "To give non-zero coefficients to the constraint we use:  \n",
    "`constraint.SetCoefficient(variable_name:String, coefficient:Numeric)`"
   ]
  },
  {
   "cell_type": "code",
   "execution_count": 22,
   "metadata": {},
   "outputs": [
    {
     "name": "stdout",
     "output_type": "stream",
     "text": [
      "Number of constraints = 9\n"
     ]
    }
   ],
   "source": [
    "\n",
    "# Create the constraints, one per nutrient.\n",
    "constraints = []\n",
    "for i, nutrient in enumerate(nutrients):\n",
    "    constraints.append(solver.Constraint(nutrient[1], solver.infinity()))\n",
    "    for j, food in enumerate(food_data):\n",
    "        constraints[i].SetCoefficient(foods[j], food[i + 3])\n",
    "\n",
    "print('Number of constraints =', solver.NumConstraints())"
   ]
  },
  {
   "cell_type": "markdown",
   "metadata": {},
   "source": [
    "Finally we add the objective function.  \n",
    "`solver.Objective()`\n",
    "  \n",
    "Adding coefficients similar to constraints:  \n",
    "`objective.SetCoefficient(variable_name:String, coefficient:Numeric)`"
   ]
  },
  {
   "cell_type": "code",
   "execution_count": 23,
   "metadata": {},
   "outputs": [],
   "source": [
    "\n",
    "# Objective function: Minimize the sum of (price-normalized) foods.\n",
    "objective = solver.Objective()\n",
    "for i, food in enumerate(foods):\n",
    "    objective.SetCoefficient(food, food_data[i][2])\n",
    "objective.SetMinimization()"
   ]
  },
  {
   "cell_type": "code",
   "execution_count": 24,
   "metadata": {},
   "outputs": [],
   "source": [
    "\n",
    "status = solver.Solve()"
   ]
  },
  {
   "cell_type": "code",
   "execution_count": 25,
   "metadata": {},
   "outputs": [],
   "source": [
    "\n",
    "# Check that the problem has an optimal solution.\n",
    "if status != solver.OPTIMAL:\n",
    "    print('The problem does not have an optimal solution!')\n",
    "    if status == solver.FEASIBLE:\n",
    "        print('A potentially suboptimal solution was found.')\n",
    "    else:\n",
    "        print('The solver could not solve the problem.')\n",
    "        exit(1)"
   ]
  },
  {
   "cell_type": "code",
   "execution_count": 26,
   "metadata": {},
   "outputs": [
    {
     "name": "stdout",
     "output_type": "stream",
     "text": [
      "\n",
      "Annual Foods:\n",
      "Corn Meal: $1.9506499126370085\n",
      "Cabbage: $4.129334457220715\n",
      "Spinach: $1.8891482029698685\n",
      "Navy Beans, Dried: $37.619415261450825\n",
      "\n",
      "Optimal annual price: $261.5082\n"
     ]
    }
   ],
   "source": [
    "# Display the amounts (in dollars) to purchase of each food.\n",
    "nutrients_result = [0] * len(nutrients)\n",
    "print('\\nAnnual Foods:')\n",
    "for i, food in enumerate(foods):\n",
    "    if food.solution_value() > 0.0:\n",
    "        print('{}: ${}'.format(food_data[i][0], 365. * food.solution_value()))\n",
    "        for j, _ in enumerate(nutrients):\n",
    "            nutrients_result[j] += food_data[i][j + 3] * food.solution_value()\n",
    "print('\\nOptimal annual price: ${:.4f}'.format(365. * objective.Value()))"
   ]
  },
  {
   "cell_type": "code",
   "execution_count": 27,
   "metadata": {},
   "outputs": [
    {
     "name": "stdout",
     "output_type": "stream",
     "text": [
      "\n",
      "Nutrients per day:\n",
      "Calories (kcal): 3.00 (min 3)\n",
      "Protein (g): 181.04 (min 70)\n",
      "Calcium (g): 1.23 (min 0.8)\n",
      "Iron (mg): 83.28 (min 12)\n",
      "Vitamin A (KIU): 5.00 (min 5)\n",
      "Vitamin B1 (mg): 4.18 (min 1.8)\n",
      "Vitamin B2 (mg): 2.70 (min 2.7)\n",
      "Niacin (mg): 23.40 (min 18)\n",
      "Vitamin C (mg): 75.00 (min 75)\n"
     ]
    }
   ],
   "source": [
    "print('\\nNutrients per day:')\n",
    "for i, nutrient in enumerate(nutrients):\n",
    "    print('{}: {:.2f} (min {})'.format(nutrient[0], nutrients_result[i],\n",
    "                                        nutrient[1]))"
   ]
  },
  {
   "cell_type": "code",
   "execution_count": 28,
   "metadata": {
    "scrolled": false
   },
   "outputs": [
    {
     "name": "stdout",
     "output_type": "stream",
     "text": [
      "constraint Calories (kcal) : 0.093146508421503        \n",
      "constraint Protein (g)     : 0.0                      \n",
      "constraint Calcium (g)     : 0.0                      \n",
      "constraint Iron (mg)       : 0.0                      \n",
      "constraint Vitamin A (KIU) : 0.005070140561699871     \n",
      "constraint Vitamin B1 (mg) : 0.0                      \n",
      "constraint Vitamin B2 (mg) : 0.13798207005941338      \n",
      "constraint Niacin (mg)     : 0.0                      \n",
      "constraint Vitamin C (mg)  : 0.0005215859100004645    \n"
     ]
    }
   ],
   "source": [
    "for i, constraint in enumerate(constraints):\n",
    "    print((f'constraint {nutrients[i][0]:<15} : {constraint.dual_value():<25}'))"
   ]
  },
  {
   "cell_type": "code",
   "execution_count": 29,
   "metadata": {},
   "outputs": [
    {
     "name": "stdout",
     "output_type": "stream",
     "text": [
      "\n",
      "Advanced usage:\n",
      "Problem solved in  136  milliseconds\n",
      "Problem solved in  17  iterations\n"
     ]
    }
   ],
   "source": [
    "print('\\nAdvanced usage:')\n",
    "print('Problem solved in ', solver.wall_time(), ' milliseconds')\n",
    "print('Problem solved in ', solver.iterations(), ' iterations')"
   ]
  },
  {
   "cell_type": "markdown",
   "metadata": {},
   "source": [
    "# SciPy"
   ]
  },
  {
   "cell_type": "code",
   "execution_count": 30,
   "metadata": {},
   "outputs": [],
   "source": [
    "obj = [food[2] for food in food_data]\n",
    "var_name = [food[0] for food in food_data]\n",
    "\n",
    "#A_lb = [[-1*j for j in food_data[i][3:]] for i, _ in enumerate(nutrients)]\n",
    "A_lb = [[-1*food[i+3] for food in food_data] for i, _ in enumerate(nutrients)]\n",
    "b_lb = [-1*N[1] for N in nutrients]\n",
    "\n",
    "\n",
    "dv_bounds = [(0, float('inf')) for i, _ in enumerate(food_data)]"
   ]
  },
  {
   "cell_type": "code",
   "execution_count": 31,
   "metadata": {},
   "outputs": [],
   "source": [
    "opt = linprog(c=obj, A_ub=A_lb, b_ub=b_lb, bounds=dv_bounds, method=\"revised simplex\")"
   ]
  },
  {
   "cell_type": "code",
   "execution_count": 32,
   "metadata": {
    "scrolled": false
   },
   "outputs": [
    {
     "data": {
      "text/plain": [
       "     con: array([], dtype=float64)\n",
       "     fun: 0.7164607604834595\n",
       " message: 'Optimization terminated successfully.'\n",
       "     nit: 33\n",
       "   slack: array([ 2.22044605e-15,  1.11042687e+02,  4.29300758e-01,  7.12795883e+01,\n",
       "       -1.77635684e-15,  2.38207948e+00, -4.44089210e-16,  5.39694956e+00,\n",
       "        0.00000000e+00])\n",
       "  status: 0\n",
       " success: True\n",
       "       x: array([0.        , 0.        , 0.        , 0.        , 0.00534425,\n",
       "       0.        , 0.        , 0.        , 0.        , 0.        ,\n",
       "       0.        , 0.        , 0.        , 0.        , 0.        ,\n",
       "       0.        , 0.        , 0.        , 0.        , 0.        ,\n",
       "       0.        , 0.        , 0.        , 0.        , 0.        ,\n",
       "       0.        , 0.        , 0.        , 0.        , 0.        ,\n",
       "       0.        , 0.        , 0.        , 0.        , 0.        ,\n",
       "       0.        , 0.        , 0.        , 0.        , 0.        ,\n",
       "       0.        , 0.        , 0.        , 0.        , 0.        ,\n",
       "       0.01131325, 0.        , 0.        , 0.        , 0.        ,\n",
       "       0.        , 0.00517575, 0.        , 0.        , 0.        ,\n",
       "       0.        , 0.        , 0.        , 0.        , 0.        ,\n",
       "       0.        , 0.        , 0.        , 0.        , 0.        ,\n",
       "       0.        , 0.        , 0.        , 0.10306689, 0.        ,\n",
       "       0.        , 0.        , 0.        , 0.        , 0.        ,\n",
       "       0.        , 0.        ])"
      ]
     },
     "execution_count": 32,
     "metadata": {},
     "output_type": "execute_result"
    }
   ],
   "source": [
    "opt"
   ]
  },
  {
   "cell_type": "code",
   "execution_count": null,
   "metadata": {},
   "outputs": [],
   "source": []
  }
 ],
 "metadata": {
  "kernelspec": {
   "display_name": "Python 3 (ipykernel)",
   "language": "python",
   "name": "python3"
  },
  "language_info": {
   "codemirror_mode": {
    "name": "ipython",
    "version": 3
   },
   "file_extension": ".py",
   "mimetype": "text/x-python",
   "name": "python",
   "nbconvert_exporter": "python",
   "pygments_lexer": "ipython3",
   "version": "3.9.7"
  },
  "vscode": {
   "interpreter": {
    "hash": "b8d91c2d510acc68c1bf36af0b53875b1d78b1e3dc276841694ff4c3b57b7fd2"
   }
  }
 },
 "nbformat": 4,
 "nbformat_minor": 2
}
