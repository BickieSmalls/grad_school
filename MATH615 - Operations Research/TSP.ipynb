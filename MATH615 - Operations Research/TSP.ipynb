{
 "cells": [
  {
   "cell_type": "markdown",
   "id": "c089880f",
   "metadata": {},
   "source": [
    "Adapted from https://developers.google.com/optimization/routing/tsp#search_strategy"
   ]
  },
  {
   "cell_type": "code",
   "execution_count": 1,
   "id": "397fbd30",
   "metadata": {},
   "outputs": [],
   "source": [
    "import pandas as pd\n",
    "\n",
    "from ortools.constraint_solver import routing_enums_pb2\n",
    "from ortools.constraint_solver import pywrapcp"
   ]
  },
  {
   "cell_type": "markdown",
   "id": "d159fe14",
   "metadata": {},
   "source": [
    "**Note**: Since the routing solver does all computations with integers, the distance callback must return an integer distance for any two locations. If any of the entries of data['distance_matrix'] are not integers, you need to round either the matrix entries, or the return values of the callback, to integers. See Scaling the distance matrix for an example that shows how to avoid problems caused by rounding error."
   ]
  },
  {
   "cell_type": "code",
   "execution_count": 2,
   "id": "361a73ed",
   "metadata": {},
   "outputs": [],
   "source": [
    "cities = {0: 'New York',\n",
    "          1: 'Los Angeles',\n",
    "          2: 'Chicago',\n",
    "          3: 'Minneapolis',\n",
    "          4: 'Denver',\n",
    "          5: 'Dallas',\n",
    "          6: 'Seattle',\n",
    "          7: 'Boston',\n",
    "          8: 'San Francisco',\n",
    "          9: 'St. Louis',\n",
    "          10: 'Houston',\n",
    "          11: 'Phoenix',\n",
    "          12: 'Salt Lake City',}"
   ]
  },
  {
   "cell_type": "code",
   "execution_count": 3,
   "id": "a8ce22c7",
   "metadata": {},
   "outputs": [],
   "source": [
    "city_data = {'New York':(40.7128,-74.0060),\n",
    "          'Los Angeles':(34.0522,-118.2437),\n",
    "          'Chicago':(41.8781,-87.6298),\n",
    "          'Minneapolis':(44.9778,-93.2650),\n",
    "          'Denver':(39.7392,-104.9903),\n",
    "          'Dallas':(32.7767,-96.7970),\n",
    "          'Seattle':(47.6062,-122.3321),\n",
    "          'Boston':(42.3601,-71.0589),\n",
    "          'San Francisco':(37.7749,-122.4194),\n",
    "          'St. Louis':(38.6270,-90.1994),\n",
    "          'Houston':(29.7604,-95.3698),\n",
    "          'Phoenix':(33.4484,-112.0740),\n",
    "          'Salt Lake City':(40.7608,-111.8910),}"
   ]
  },
  {
   "cell_type": "code",
   "execution_count": 4,
   "id": "6f2647b3",
   "metadata": {},
   "outputs": [],
   "source": [
    "def create_data_model():\n",
    "    \"\"\"Stores the data for the problem.\"\"\"\n",
    "    data = {}\n",
    "    data['distance_matrix'] = [\n",
    "        [0, 2451, 713, 1018, 1631, 1374, 2408, 213, 2571, 875, 1420, 2145, 1972],\n",
    "        [2451, 0, 1745, 1524, 831, 1240, 959, 2596, 403, 1589, 1374, 357, 579],\n",
    "        [713, 1745, 0, 355, 920, 803, 1737, 851, 1858, 262, 940, 1453, 1260],\n",
    "        [1018, 1524, 355, 0, 700, 862, 1395, 1123, 1584, 466, 1056, 1280, 987],\n",
    "        [1631, 831, 920, 700, 0, 663, 1021, 1769, 949, 796, 879, 586, 371],\n",
    "        [1374, 1240, 803, 862, 663, 0, 1681, 1551, 1765, 547, 225, 887, 999],\n",
    "        [2408, 959, 1737, 1395, 1021, 1681, 0, 2493, 678, 1724, 1891, 1114, 701],\n",
    "        [213, 2596, 851, 1123, 1769, 1551, 2493, 0, 2699, 1038, 1605, 2300, 2099],\n",
    "        [2571, 403, 1858, 1584, 949, 1765, 678, 2699, 0, 1744, 1645, 653, 600],\n",
    "        [875, 1589, 262, 466, 796, 547, 1724, 1038, 1744, 0, 679, 1272, 1162],\n",
    "        [1420, 1374, 940, 1056, 879, 225, 1891, 1605, 1645, 679, 0, 1017, 1200],\n",
    "        [2145, 357, 1453, 1280, 586, 887, 1114, 2300, 653, 1272, 1017, 0, 504],\n",
    "        [1972, 579, 1260, 987, 371, 999, 701, 2099, 600, 1162, 1200, 504, 0],\n",
    "    ]\n",
    "    data['num_vehicles'] = 1\n",
    "    data['depot'] = 0\n",
    "    return data"
   ]
  },
  {
   "cell_type": "code",
   "execution_count": 5,
   "id": "02cac54d",
   "metadata": {},
   "outputs": [],
   "source": [
    "data = create_data_model()\n",
    "manager = pywrapcp.RoutingIndexManager(len(data['distance_matrix']),\n",
    "                                       data['num_vehicles'], data['depot'])\n",
    "routing = pywrapcp.RoutingModel(manager)"
   ]
  },
  {
   "cell_type": "code",
   "execution_count": 6,
   "id": "53991aa8",
   "metadata": {},
   "outputs": [],
   "source": [
    "def distance_callback(from_index, to_index):\n",
    "    \"\"\"Returns the distance between the two nodes.\"\"\"\n",
    "    # Convert from routing variable Index to distance matrix NodeIndex.\n",
    "    from_node = manager.IndexToNode(from_index)\n",
    "    to_node = manager.IndexToNode(to_index)\n",
    "    return data['distance_matrix'][from_node][to_node]\n",
    "\n",
    "transit_callback_index = routing.RegisterTransitCallback(distance_callback)"
   ]
  },
  {
   "cell_type": "code",
   "execution_count": 7,
   "id": "10e5de2a",
   "metadata": {},
   "outputs": [],
   "source": [
    "routing.SetArcCostEvaluatorOfAllVehicles(transit_callback_index)"
   ]
  },
  {
   "cell_type": "markdown",
   "id": "95ab3e96",
   "metadata": {},
   "source": [
    "### First solution strategy\n",
    "(taken from ORTools documentation https://developers.google.com/optimization/routing/routing_options)\n",
    "\n",
    "The first solution strategy is the method the solver uses to find an initial solution. The following table lists the options for first_solution_strategy."
   ]
  },
  {
   "cell_type": "markdown",
   "id": "bda643b3",
   "metadata": {},
   "source": [
    "|Option\t|Description|\n",
    "|---|---|\n",
    "|AUTOMATIC |\tLets the solver detect which strategy to use according to the model being solved.|\n",
    "|PATH_CHEAPEST_ARC |\tStarting from a route \"start\" node, connect it to the node which produces the cheapest route segment, then extend the route by iterating on the last node added to the route.|\n",
    "|PATH_MOST_CONSTRAINED_ARC |\tSimilar to PATH_CHEAPEST_ARC, but arcs are evaluated with a comparison-based selector which will favor the most constrained arc first. To assign a selector to the routing model, use the method ArcIsMoreConstrainedThanArc().|\n",
    "|EVALUATOR_STRATEGY |\tSimilar to PATH_CHEAPEST_ARC, except that arc costs are evaluated using the function passed to SetFirstSolutionEvaluator().|\n",
    "|SAVINGS |\tSavings algorithm (Clarke & Wright). Reference: Clarke, G. & Wright, J.W.: \"Scheduling of Vehicles from a Central Depot to a Number of Delivery Points\", Operations Research, Vol. 12, 1964, pp. 568-581.|\n",
    "|SWEEP |\tSweep algorithm (Wren & Holliday). Reference: Anthony Wren & Alan Holliday: Computer Scheduling of Vehicles from One or More Depots to a Number of Delivery Points Operational Research Quarterly (1970-1977), Vol. 23, No. 3 (Sep., 1972), pp. 333-344.|\n",
    "|CHRISTOFIDES |\tChristofides algorithm (actually a variant of the Christofides algorithm using a maximal matching instead of a maximum matching, which does not guarantee the 3/2 factor of the approximation on a metric travelling salesperson). Works on generic vehicle routing models by extending a route until no nodes can be inserted on it. Reference: Nicos Christofides, Worst-case analysis of a new heuristic for the travelling salesman problem, Report 388, Graduate School of Industrial Administration, CMU, 1976.|\n",
    "|ALL_UNPERFORMED |\tMake all nodes inactive. Only finds a solution if nodes are optional (are element of a disjunction constraint with a finite penalty cost).|\n",
    "|BEST_INSERTION |\tIteratively build a solution by inserting the cheapest node at its cheapest position; the cost of insertion is based on the global cost function of the routing model. As of 2/2012, only works on models with optional nodes (with finite penalty costs).|\n",
    "|PARALLEL_CHEAPEST_INSERTION |\tIteratively build a solution by inserting the cheapest node at its cheapest position; the cost of insertion is based on the arc cost function. Is faster than BEST_INSERTION.|\n",
    "|LOCAL_CHEAPEST_INSERTION |\tIteratively build a solution by inserting each node at its cheapest position; the cost of insertion is based on the arc cost function. Differs from PARALLEL_CHEAPEST_INSERTION by the node selected for insertion; here nodes are considered in their order of creation. Is faster than PARALLEL_CHEAPEST_INSERTION.|\n",
    "|GLOBAL_CHEAPEST_ARC |\tIteratively connect two nodes which produce the cheapest route segment.|\n",
    "|LOCAL_CHEAPEST_ARC |\tSelect the first node with an unbound successor and connect it to the node which produces the cheapest route segment.|\n",
    "|FIRST_UNBOUND_MIN_VALUE |\tSelect the first node with an unbound successor and connect it to the first available node. This is equivalent to the CHOOSE_FIRST_UNBOUND strategy combined with ASSIGN_MIN_VALUE (cf. constraint_solver.h).|"
   ]
  },
  {
   "cell_type": "code",
   "execution_count": 8,
   "id": "0589a197",
   "metadata": {},
   "outputs": [],
   "source": [
    "strategy = {'PATH_CHEAPEST_ARC':routing_enums_pb2.FirstSolutionStrategy.PATH_CHEAPEST_ARC,\n",
    "            'PATH_MOST_CONSTRAINED_ARC':routing_enums_pb2.FirstSolutionStrategy.PATH_MOST_CONSTRAINED_ARC,\n",
    "            'CHRISTOFIDES':routing_enums_pb2.FirstSolutionStrategy.CHRISTOFIDES,\n",
    "            #'BEST_INSERTION':routing_enums_pb2.FirstSolutionStrategy.BEST_INSERTION,\n",
    "            'LOCAL_CHEAPEST_INSERTION':routing_enums_pb2.FirstSolutionStrategy.LOCAL_CHEAPEST_INSERTION,\n",
    "            'LOCAL_CHEAPEST_ARC':routing_enums_pb2.FirstSolutionStrategy.LOCAL_CHEAPEST_ARC,\n",
    "           }"
   ]
  },
  {
   "cell_type": "code",
   "execution_count": 9,
   "id": "0bd54274",
   "metadata": {},
   "outputs": [],
   "source": [
    "search_parameters = pywrapcp.DefaultRoutingSearchParameters()\n",
    "search_parameters.first_solution_strategy = (\n",
    "    routing_enums_pb2.FirstSolutionStrategy.PATH_CHEAPEST_ARC)"
   ]
  },
  {
   "cell_type": "markdown",
   "id": "907e2e6c",
   "metadata": {},
   "source": [
    "### Local search options\n",
    "The following table lists the options for local search strategies (also called metaheuristics). See Changing the search strategy for examples of setting these options."
   ]
  },
  {
   "cell_type": "markdown",
   "id": "2ac9fb4b",
   "metadata": {},
   "source": [
    "|Option\t|Description|\n",
    "|---|---|\n",
    "|AUTOMATIC|\tLets the solver select the metaheuristic.|\n",
    "|GREEDY_DESCENT|\tAccepts improving (cost-reducing) local search neighbors until a local minimum is reached.|\n",
    "|GUIDED_LOCAL_SEARCH|\tUses guided local search to escape local minima (cf. http://en.wikipedia.org/wiki/Guided_Local_Search); this is generally the most efficient metaheuristic for vehicle routing.|\n",
    "|SIMULATED_ANNEALING|\tUses simulated annealing to escape local minima (cf. http://en.wikipedia.org/wiki/Simulated_annealing).|\n",
    "|TABU_SEARCH|\tUses tabu search to escape local minima (cf. http://en.wikipedia.org/wiki/Tabu_search).|\n",
    "|GENERIC_TABU_SEARCH |Uses tabu search on the objective value of solution to escape local minima.|"
   ]
  },
  {
   "cell_type": "code",
   "execution_count": 10,
   "id": "57e475e4",
   "metadata": {},
   "outputs": [],
   "source": [
    "def print_solution(manager, routing, solution):\n",
    "    \"\"\"Prints solution on console.\"\"\"\n",
    "    print('Objective: {} miles'.format(solution.ObjectiveValue()))\n",
    "    index = routing.Start(0)\n",
    "    plan_output = 'Route for vehicle 0:\\n'\n",
    "    route_distance = 0\n",
    "    while not routing.IsEnd(index):\n",
    "        plan_output += ' {} ->'.format(manager.IndexToNode(index))\n",
    "        previous_index = index\n",
    "        index = solution.Value(routing.NextVar(index))\n",
    "        route_distance += routing.GetArcCostForVehicle(previous_index, index, 0)\n",
    "    plan_output += ' {}\\n'.format(manager.IndexToNode(index))\n",
    "    print(plan_output)\n",
    "    plan_output += 'Route distance: {}miles\\n'.format(route_distance)"
   ]
  },
  {
   "cell_type": "code",
   "execution_count": 11,
   "id": "2d12d31e",
   "metadata": {},
   "outputs": [
    {
     "name": "stdout",
     "output_type": "stream",
     "text": [
      "Objective: 7293 miles\n",
      "Route for vehicle 0:\n",
      " 0 -> 7 -> 2 -> 3 -> 4 -> 12 -> 6 -> 8 -> 1 -> 11 -> 10 -> 5 -> 9 -> 0\n",
      "\n"
     ]
    }
   ],
   "source": [
    "solution = routing.SolveWithParameters(search_parameters)\n",
    "if solution:\n",
    "    print_solution(manager, routing, solution)"
   ]
  },
  {
   "cell_type": "code",
   "execution_count": 12,
   "id": "2288a10b",
   "metadata": {},
   "outputs": [],
   "source": [
    "search_parameters = pywrapcp.DefaultRoutingSearchParameters()\n",
    "search_parameters.first_solution_strategy = (\n",
    "    routing_enums_pb2.FirstSolutionStrategy.CHRISTOFIDES)"
   ]
  },
  {
   "cell_type": "code",
   "execution_count": 13,
   "id": "08f24069",
   "metadata": {
    "scrolled": true
   },
   "outputs": [
    {
     "name": "stdout",
     "output_type": "stream",
     "text": [
      "Objective: 7569 miles\n",
      "Route for vehicle 0:\n",
      " 0 -> 7 -> 2 -> 3 -> 6 -> 8 -> 1 -> 11 -> 12 -> 4 -> 5 -> 10 -> 9 -> 0\n",
      "\n"
     ]
    }
   ],
   "source": [
    "solution = routing.SolveWithParameters(search_parameters)\n",
    "if solution:\n",
    "    print_solution(manager, routing, solution)"
   ]
  },
  {
   "cell_type": "code",
   "execution_count": 14,
   "id": "d4b2d39b",
   "metadata": {},
   "outputs": [],
   "source": [
    "def get_routes(solution, routing, manager):\n",
    "    \"\"\"Get vehicle routes from a solution and store them in an array.\"\"\"\n",
    "    # Get vehicle routes and store them in a two dimensional array whose\n",
    "    # i,j entry is the jth location visited by vehicle i along its route.\n",
    "    routes = []\n",
    "    for route_nbr in range(routing.vehicles()):\n",
    "        index = routing.Start(route_nbr)\n",
    "        route = [manager.IndexToNode(index)]\n",
    "    while not routing.IsEnd(index):\n",
    "        index = solution.Value(routing.NextVar(index))\n",
    "        route.append(manager.IndexToNode(index))\n",
    "    routes.append(route)\n",
    "    return routes"
   ]
  },
  {
   "cell_type": "code",
   "execution_count": 15,
   "id": "11eabeb4",
   "metadata": {},
   "outputs": [
    {
     "name": "stdout",
     "output_type": "stream",
     "text": [
      "Route 0 [0, 7, 2, 3, 6, 8, 1, 11, 12, 4, 5, 10, 9, 0]\n"
     ]
    }
   ],
   "source": [
    "routes = get_routes(solution, routing, manager)\n",
    "# Display the routes.\n",
    "for i, route in enumerate(routes):\n",
    "    print('Route', i, route)"
   ]
  },
  {
   "cell_type": "code",
   "execution_count": 16,
   "id": "e31b22e2",
   "metadata": {},
   "outputs": [
    {
     "data": {
      "application/vnd.jupyter.widget-view+json": {
       "model_id": "a52838ec234045e0a8fc8774ac953763",
       "version_major": 2,
       "version_minor": 0
      },
      "text/plain": [
       "interactive(children=(Dropdown(description='Heuristic', options=('PATH_CHEAPEST_ARC', 'PATH_MOST_CONSTRAINED_A…"
      ]
     },
     "metadata": {},
     "output_type": "display_data"
    }
   ],
   "source": [
    "import plotly.express as px\n",
    "from ipywidgets import interact\n",
    "\n",
    "@interact\n",
    "def run_alg(Heuristic = strategy.keys()):\n",
    "    data = create_data_model()\n",
    "    manager = pywrapcp.RoutingIndexManager(len(data['distance_matrix']),\n",
    "                                           data['num_vehicles'], data['depot'])\n",
    "    routing = pywrapcp.RoutingModel(manager)\n",
    "    transit_callback_index = routing.RegisterTransitCallback(distance_callback)\n",
    "    routing.SetArcCostEvaluatorOfAllVehicles(transit_callback_index)\n",
    "    search_parameters = pywrapcp.DefaultRoutingSearchParameters()\n",
    "    search_parameters.first_solution_strategy = (strategy[Heuristic])\n",
    "    solution = routing.SolveWithParameters(search_parameters)\n",
    "    print_solution(manager, routing, solution)\n",
    "    route = get_routes(solution, routing, manager)[0]\n",
    "    city = [cities[i] for i in route]\n",
    "    lat = [city_data[i][0] for i in city]\n",
    "    long = [city_data[i][1] for i in city]\n",
    "    route_data = pd.DataFrame({'City':city, 'Latitude':lat, 'Longitude':long})\n",
    "    fig = px.line_geo(route_data, lat = 'Latitude', lon = 'Longitude', text = 'City',\n",
    "                         scope = 'usa'\n",
    "                        )\n",
    "    fig.show()"
   ]
  },
  {
   "cell_type": "markdown",
   "id": "fc4f67f2",
   "metadata": {},
   "source": [
    "## From (Lat, Long)"
   ]
  },
  {
   "cell_type": "code",
   "execution_count": 17,
   "id": "faa8eef5",
   "metadata": {},
   "outputs": [],
   "source": [
    "text = \"\"\"\n",
    "Alabama,Montgomery,32.377716,-86.300568,\n",
    "Arizona,Phoenix,33.448143,-112.096962,\n",
    "Arkansas,Little Rock,34.746613,-92.288986,\n",
    "California,Sacramento,38.576668,-121.493629,\n",
    "Colorado,Denver,39.739227,-104.984856,\n",
    "Connecticut,Hartford,41.764046,-72.682198,\n",
    "Delaware,Dover,39.157307,-75.519722,\n",
    "Florida,Tallahassee,30.438118,-84.281296,\n",
    "Georgia,Atlanta,33.749027,-84.388229,\n",
    "Idaho,Boise,43.617775,-116.199722,\n",
    "Illinois,Springfield,39.798363,-89.654961,\n",
    "Indiana,Indianapolis,39.768623,-86.162643,\n",
    "Iowa,Des Moines,41.591087,-93.603729,\n",
    "Kansas,Topeka,39.048191,-95.677956,\n",
    "Kentucky,Frankfort,38.186722,-84.875374,\n",
    "Louisiana,Baton Rouge,30.457069,-91.187393,\n",
    "Maine,Augusta,44.307167,-69.781693,\n",
    "Maryland,Annapolis,38.978764,-76.490936,\n",
    "Massachusetts,Boston,42.358162,-71.063698,\n",
    "Michigan,Lansing,42.733635,-84.555328,\n",
    "Minnesota,St. Paul,44.955097,-93.102211,\n",
    "Mississippi,Jackson,32.303848,-90.182106,\n",
    "Missouri,Jefferson City,38.579201,-92.172935,\n",
    "Montana,Helena,46.585709,-112.018417,\n",
    "Nebraska,Lincoln,40.808075,-96.699654,\n",
    "Nevada,Carson City,39.163914,-119.766121,\n",
    "New Hampshire,Concord,43.206898,-71.537994,\n",
    "New Jersey,Trenton,40.220596,-74.769913,\n",
    "New Mexico,Santa Fe,35.68224,-105.939728,\n",
    "North Carolina,Raleigh,35.78043,-78.639099,\n",
    "North Dakota,Bismarck,46.82085,-100.783318,\n",
    "New York,Albany,42.652843,-73.757874,\n",
    "Ohio,Columbus,39.961346,-82.999069,\n",
    "Oklahoma,Oklahoma City,35.492207,-97.503342,\n",
    "Oregon,Salem,44.938461,-123.030403,\n",
    "Pennsylvania,Harrisburg,40.264378,-76.883598,\n",
    "Rhode Island,Providence,41.830914,-71.414963,\n",
    "South Carolina,Columbia,34.000343,-81.033211,\n",
    "South Dakota,Pierre,44.367031,-100.346405,\n",
    "Tennessee,Nashville,36.16581,-86.784241,\n",
    "Texas,Austin,30.27467,-97.740349,\n",
    "Utah,Salt Lake City,40.777477,-111.888237,\n",
    "Vermont,Montpelier,44.262436,-72.580536,\n",
    "Virginia,Richmond,37.538857,-77.43364,\n",
    "Washington,Olympia,47.035805,-122.905014,\n",
    "West Virginia,Charleston,38.336246,-81.612328,\n",
    "Wisconsin,Madison,43.074684,-89.384445,\n",
    "Wyoming,Cheyenne,41.140259,-104.820236\n",
    "\"\"\"\n",
    "\n",
    "temp = text.split(',')\n",
    "\n",
    "state = [temp[i].strip() for i in range(0,192, 4)]\n",
    "city  = [temp[i] for i in range(1, 192, 4)]\n",
    "lat   = [float(temp[i]) for i in range(2, 192, 4)]\n",
    "long  = [float(temp[i]) for i in range(3, 192, 4)]\n",
    "\n",
    "city_data = pd.DataFrame({'City':city, 'Latitude':lat, 'Longitude':long})"
   ]
  },
  {
   "cell_type": "code",
   "execution_count": 18,
   "id": "41bd4468",
   "metadata": {},
   "outputs": [],
   "source": [
    "from math import radians, sin, cos, acos\n",
    "\n",
    "def hav_dist(lat_1, lon_1, lat_2, lon_2):\n",
    "    lat_1, lon_1 = radians(lat_1), radians(lon_1)\n",
    "    lat_2, lon_2 = radians(lat_2), radians(lon_2)\n",
    "    return 3958.76 * acos(sin(lat_1)*sin(lat_2) + cos(lat_1)*cos(lat_2)*cos(lon_1 - lon_2))"
   ]
  },
  {
   "cell_type": "code",
   "execution_count": 19,
   "id": "9a5bfdf2",
   "metadata": {},
   "outputs": [],
   "source": [
    "def create_data_model_ll():\n",
    "    \"\"\"Stores the data for the problem.\"\"\"\n",
    "    data = {}\n",
    "    # Locations in block units\n",
    "    data['locations'] = [(lat[i], long[i]) for i, _ in enumerate(lat)]\n",
    "    data['num_vehicles'] = 1\n",
    "    data['depot'] = 0\n",
    "    return data\n",
    "\n",
    "def compute_hav_distance_matrix(locations):\n",
    "    \"\"\"Creates callback to return distance between points.\"\"\"\n",
    "    distances = {}\n",
    "    for from_counter, from_node in enumerate(locations):\n",
    "        distances[from_counter] = {}\n",
    "        for to_counter, to_node in enumerate(locations):\n",
    "            if from_counter == to_counter:\n",
    "                distances[from_counter][to_counter] = 0\n",
    "            else:\n",
    "                # haversine distance\n",
    "                distances[from_counter][to_counter] = (int(hav_dist(from_node[0], from_node[1], to_node[0], to_node[1])))\n",
    "    return distances\n",
    "\n",
    "data_ll = create_data_model_ll()\n",
    "distance_matrix_ll = compute_hav_distance_matrix(data_ll['locations'])\n",
    "\n"
   ]
  },
  {
   "cell_type": "code",
   "execution_count": 20,
   "id": "0816c37d",
   "metadata": {},
   "outputs": [
    {
     "data": {
      "application/vnd.jupyter.widget-view+json": {
       "model_id": "377ff9966ffc45238b85b89c63b9d340",
       "version_major": 2,
       "version_minor": 0
      },
      "text/plain": [
       "interactive(children=(Dropdown(description='Heuristic', options=('PATH_CHEAPEST_ARC', 'PATH_MOST_CONSTRAINED_A…"
      ]
     },
     "metadata": {},
     "output_type": "display_data"
    }
   ],
   "source": [
    "import plotly.express as px\n",
    "from ipywidgets import interact\n",
    "\n",
    "@interact\n",
    "def run_alg(Heuristic = strategy.keys()):\n",
    "    manager = pywrapcp.RoutingIndexManager(len(data_ll['locations']),\n",
    "                                           data_ll['num_vehicles'], data_ll['depot'])\n",
    "    \n",
    "    def distance_callback_ll(from_index, to_index):\n",
    "        \"\"\"Returns the distance between the two nodes.\"\"\"\n",
    "        # Convert from routing variable Index to distance matrix NodeIndex.\n",
    "        from_node = manager.IndexToNode(from_index)\n",
    "        to_node = manager.IndexToNode(to_index)\n",
    "        return distance_matrix_ll[from_node][to_node]\n",
    "    \n",
    "    routing = pywrapcp.RoutingModel(manager)\n",
    "    \n",
    "    transit_callback_index = routing.RegisterTransitCallback(distance_callback_ll)\n",
    "    routing.SetArcCostEvaluatorOfAllVehicles(transit_callback_index)\n",
    "    \n",
    "    search_parameters = pywrapcp.DefaultRoutingSearchParameters()\n",
    "    search_parameters.first_solution_strategy = strategy[Heuristic]\n",
    "    \n",
    "    solution = routing.SolveWithParameters(search_parameters)\n",
    "    \n",
    "    print_solution(manager, routing, solution)\n",
    "    route = get_routes(solution, routing, manager)[0]\n",
    "    ct = [city[i] for i in route]\n",
    "    lt = [lat[i] for i in route]\n",
    "    lg = [long[i] for i in route]\n",
    "    route_data = pd.DataFrame({'City':ct, 'Latitude':lt, 'Longitude':lg})\n",
    "    fig = px.line_geo(route_data, lat = 'Latitude', lon = 'Longitude', text = 'City',\n",
    "                         scope = 'usa'\n",
    "                        )\n",
    "    fig.show()"
   ]
  }
 ],
 "metadata": {
  "kernelspec": {
   "display_name": "Python 3 (ipykernel)",
   "language": "python",
   "name": "python3"
  },
  "language_info": {
   "codemirror_mode": {
    "name": "ipython",
    "version": 3
   },
   "file_extension": ".py",
   "mimetype": "text/x-python",
   "name": "python",
   "nbconvert_exporter": "python",
   "pygments_lexer": "ipython3",
   "version": "3.9.7"
  }
 },
 "nbformat": 4,
 "nbformat_minor": 5
}
